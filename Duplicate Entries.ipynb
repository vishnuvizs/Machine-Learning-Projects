{
 "cells": [
  {
   "cell_type": "markdown",
   "id": "97592fb1",
   "metadata": {},
   "source": [
    "# Duplicate detection with LSH"
   ]
  },
  {
   "cell_type": "markdown",
   "id": "4387ac4e",
   "metadata": {},
   "source": [
    "***"
   ]
  },
  {
   "cell_type": "markdown",
   "id": "cc3fb120",
   "metadata": {},
   "source": [
    "This code performs duplicate detection in the 'restaurant.data.csv' dataset using Locality-Sensitive Hashing (LSH). The steps involved in this process are as follows:\n",
    "\n",
    "Preprocessing: The text data in the 'name', 'addr', 'city', 'phone', and 'type' columns is combined into a single 'Combined' column. The combined text is then preprocessed by converting to lowercase, removing numbers and punctuations, removing stopwords, and stripping whitespace.\n",
    "\n",
    "Shingling: The preprocessed text is then shingled into sets of k-grams (in this case, k=5) using the 'get_shingles()' function.\n",
    "\n",
    "Find more about Shingling :<a href = \"https://towardsai.net/p/l/text-similarity-using-k-shingling-minhashing-and-lshlocality-sensitive-hashing\">Here</a>\n",
    "\n",
    "Signature creation: A MinHash signature is created for each shingled text using the 'MinHash()' function from the datasketch library. The signature is created with 128 permutations.\n",
    "\n",
    "Indexing: The signatures are indexed using LSH with a similarity threshold of 0.6 using the 'MinHashLSH()' function from the datasketch library.\n",
    "\n",
    "Querying: For each document, the shingled text is hashed using MinHash to create a signature, and the LSH index is queried to find similar documents. Documents with similar MinHash signatures are considered potential duplicates.\n",
    "\n",
    "Output: The code outputs a list of potential duplicate pairs of documents along with their corresponding rows in the original 'restaurant.data.csv' dataset."
   ]
  },
  {
   "cell_type": "markdown",
   "id": "f623fe09",
   "metadata": {},
   "source": [
    "### Required Libraries"
   ]
  },
  {
   "cell_type": "markdown",
   "id": "24e72730",
   "metadata": {},
   "source": [
    "This code imports several libraries that will be used in the project:\n",
    "\n",
    "* pandas: a library for data manipulation and analysis\n",
    "* datasketch: a library for probabilistic data structures such as MinHash and LSH\n",
    "* re: a module for regular expression operations\n",
    "* string: a module containing a collection of string constants and functions for string manipulation."
   ]
  },
  {
   "cell_type": "code",
   "execution_count": 1,
   "id": "dd5093e8",
   "metadata": {},
   "outputs": [],
   "source": [
    "import pandas as pd\n",
    "import datasketch as ds\n",
    "import re\n",
    "import string"
   ]
  },
  {
   "cell_type": "markdown",
   "id": "2bb2dc3f",
   "metadata": {},
   "source": [
    "### Reading the dataset"
   ]
  },
  {
   "cell_type": "markdown",
   "id": "bb1e8fff",
   "metadata": {},
   "source": [
    "This code reads a CSV file named 'restaurant.data.csv' into a Pandas DataFrame called 'df'. The CSV file should be in the same directory as this notebook."
   ]
  },
  {
   "cell_type": "code",
   "execution_count": 2,
   "id": "b63e6dd3",
   "metadata": {},
   "outputs": [],
   "source": [
    "df = pd.read_csv('restaurant.data.csv')"
   ]
  },
  {
   "cell_type": "code",
   "execution_count": 3,
   "id": "bb10aeb8",
   "metadata": {},
   "outputs": [
    {
     "data": {
      "text/html": [
       "<div>\n",
       "<style scoped>\n",
       "    .dataframe tbody tr th:only-of-type {\n",
       "        vertical-align: middle;\n",
       "    }\n",
       "\n",
       "    .dataframe tbody tr th {\n",
       "        vertical-align: top;\n",
       "    }\n",
       "\n",
       "    .dataframe thead th {\n",
       "        text-align: right;\n",
       "    }\n",
       "</style>\n",
       "<table border=\"1\" class=\"dataframe\">\n",
       "  <thead>\n",
       "    <tr style=\"text-align: right;\">\n",
       "      <th></th>\n",
       "      <th>name</th>\n",
       "      <th>addr</th>\n",
       "      <th>city</th>\n",
       "      <th>phone</th>\n",
       "      <th>type</th>\n",
       "      <th>class</th>\n",
       "    </tr>\n",
       "  </thead>\n",
       "  <tbody>\n",
       "    <tr>\n",
       "      <th>0</th>\n",
       "      <td>arnie morton's of chicago</td>\n",
       "      <td>435 s. la cienega blv.</td>\n",
       "      <td>los angeles</td>\n",
       "      <td>310/246-1501</td>\n",
       "      <td>american</td>\n",
       "      <td>0</td>\n",
       "    </tr>\n",
       "    <tr>\n",
       "      <th>1</th>\n",
       "      <td>arnie morton's of chicago</td>\n",
       "      <td>435 s. la cienega blvd.</td>\n",
       "      <td>los angeles</td>\n",
       "      <td>310-246-1501</td>\n",
       "      <td>steakhouses</td>\n",
       "      <td>0</td>\n",
       "    </tr>\n",
       "    <tr>\n",
       "      <th>2</th>\n",
       "      <td>art's delicatessen</td>\n",
       "      <td>12224 ventura blvd.</td>\n",
       "      <td>studio city</td>\n",
       "      <td>818/762-1221</td>\n",
       "      <td>american</td>\n",
       "      <td>1</td>\n",
       "    </tr>\n",
       "    <tr>\n",
       "      <th>3</th>\n",
       "      <td>art's deli</td>\n",
       "      <td>12224 ventura blvd.</td>\n",
       "      <td>studio city</td>\n",
       "      <td>818-762-1221</td>\n",
       "      <td>delis</td>\n",
       "      <td>1</td>\n",
       "    </tr>\n",
       "    <tr>\n",
       "      <th>4</th>\n",
       "      <td>hotel bel-air</td>\n",
       "      <td>701 stone canyon rd.</td>\n",
       "      <td>bel air</td>\n",
       "      <td>310/472-1211</td>\n",
       "      <td>californian</td>\n",
       "      <td>2</td>\n",
       "    </tr>\n",
       "  </tbody>\n",
       "</table>\n",
       "</div>"
      ],
      "text/plain": [
       "                        name                     addr         city  \\\n",
       "0  arnie morton's of chicago   435 s. la cienega blv.  los angeles   \n",
       "1  arnie morton's of chicago  435 s. la cienega blvd.  los angeles   \n",
       "2         art's delicatessen      12224 ventura blvd.  studio city   \n",
       "3                 art's deli      12224 ventura blvd.  studio city   \n",
       "4              hotel bel-air     701 stone canyon rd.      bel air   \n",
       "\n",
       "          phone         type  class  \n",
       "0  310/246-1501     american      0  \n",
       "1  310-246-1501  steakhouses      0  \n",
       "2  818/762-1221     american      1  \n",
       "3  818-762-1221        delis      1  \n",
       "4  310/472-1211  californian      2  "
      ]
     },
     "execution_count": 3,
     "metadata": {},
     "output_type": "execute_result"
    }
   ],
   "source": [
    "df.head()"
   ]
  },
  {
   "cell_type": "markdown",
   "id": "b644f021",
   "metadata": {},
   "source": [
    "### Drop any rows with missing data"
   ]
  },
  {
   "cell_type": "markdown",
   "id": "d87d7f6f",
   "metadata": {},
   "source": [
    "This code removes all rows from the DataFrame df which contain at least one missing value (i.e. NaN). The inplace=True parameter ensures that the original DataFrame is modified instead of creating a new copy."
   ]
  },
  {
   "cell_type": "code",
   "execution_count": 4,
   "id": "611e4329",
   "metadata": {},
   "outputs": [],
   "source": [
    "df.dropna(inplace=True)"
   ]
  },
  {
   "cell_type": "code",
   "execution_count": 5,
   "id": "0d2c2f5d",
   "metadata": {},
   "outputs": [],
   "source": [
    "df.reset_index(inplace = True, drop = True)"
   ]
  },
  {
   "cell_type": "markdown",
   "id": "2c979d6f",
   "metadata": {},
   "source": [
    "### Taking the copy of our dataset for later use. \n",
    "\n",
    "This line of code creates a copy of the original dataframe df and assigns it to a new variable old_df. The copy() method is used to create a new copy of the dataframe so that any changes made to old_df will not affect the original df."
   ]
  },
  {
   "cell_type": "code",
   "execution_count": 6,
   "id": "59767cb2",
   "metadata": {},
   "outputs": [],
   "source": [
    "old_df = df.copy()"
   ]
  },
  {
   "cell_type": "markdown",
   "id": "3b266e5f",
   "metadata": {},
   "source": [
    "### Combine columns into one text column"
   ]
  },
  {
   "cell_type": "markdown",
   "id": "442d44e5",
   "metadata": {},
   "source": [
    "This code creates a new column in the dataframe called \"Combined\" by concatenating values from multiple columns of the dataframe: \"name\", \"addr\", \"city\", \"phone\", and \"type\". The resulting column will contain a combination of these values for each row of the dataframe, which will be used to identify similar documents."
   ]
  },
  {
   "cell_type": "code",
   "execution_count": 7,
   "id": "29f8fe7f",
   "metadata": {},
   "outputs": [],
   "source": [
    "df['Combined'] = df['name'] + df['addr']+ df['city'] + df['phone'] + df['type']"
   ]
  },
  {
   "cell_type": "markdown",
   "id": "fd115da6",
   "metadata": {},
   "source": [
    "### Function to preprocess the text"
   ]
  },
  {
   "cell_type": "markdown",
   "id": "fb35ea0a",
   "metadata": {},
   "source": [
    "This code defines a function named preprocess that takes a string text as input and applies several text preprocessing techniques to it:\n",
    "\n",
    "Converts the text to lowercase using the lower() method.\n",
    "Removes all digits from the text using the re.sub() method and regular expressions.\n",
    "Removes all punctuation from the text using the translate() method and the string.punctuation constant.\n",
    "Removes leading and trailing whitespace from the text using the strip() method.\n",
    "Removes stopwords (commonly used words that do not add much meaning to a text) from the text using a list of predefined stopwords and a list comprehension.\n",
    "The processed text is then returned from the function."
   ]
  },
  {
   "cell_type": "code",
   "execution_count": 8,
   "id": "efbfae8d",
   "metadata": {},
   "outputs": [],
   "source": [
    "def preprocess(text):\n",
    "    # Convert to lowercase\n",
    "    text = text.lower()\n",
    "    \n",
    "    # Remove numbers\n",
    "    text = re.sub(r'\\d', '', text)\n",
    "    \n",
    "    # Remove punctuation\n",
    "    text = text.translate(str.maketrans('', '', string.punctuation))\n",
    "    \n",
    "    # Remove whitespace\n",
    "    text = text.strip()\n",
    "    \n",
    "    # Remove stopwords\n",
    "    stopwords = ['the', 'and', 'in', 'of', 'on', 'at', 'a', 'an']\n",
    "    text = ' '.join([word for word in text.split() if word not in stopwords])\n",
    "    \n",
    "    return text"
   ]
  },
  {
   "cell_type": "markdown",
   "id": "182aed83",
   "metadata": {},
   "source": [
    "### Apply preprocessing to the Combined column"
   ]
  },
  {
   "cell_type": "markdown",
   "id": "aeae1a92",
   "metadata": {},
   "source": [
    "This line of code applies the preprocess() function to each value in the 'Combined' column of the df DataFrame using the apply() method. The preprocess() function performs several text preprocessing steps to clean the text data, such as converting the text to lowercase, removing numbers and punctuation, removing whitespace, and removing stop words. The resulting cleaned text is then stored back in the 'Combined' column of the DataFrame."
   ]
  },
  {
   "cell_type": "code",
   "execution_count": 9,
   "id": "4bfffab3",
   "metadata": {},
   "outputs": [],
   "source": [
    "df['Combined'] = df['Combined'].apply(preprocess)"
   ]
  },
  {
   "cell_type": "markdown",
   "id": "138e7942",
   "metadata": {},
   "source": [
    "### Define a function for shingling text"
   ]
  },
  {
   "cell_type": "markdown",
   "id": "bc5e4a8c",
   "metadata": {},
   "source": [
    "Shingling is a technique used in text analysis to transform text into a set of overlapping subsequences of characters, called shingles. In this project, shingling is used to break down the restaurant information into a set of shingles of length k.\n",
    "\n",
    "Shingling is useful in this project because it enables the use of MinHash and Locality Sensitive Hashing (LSH) algorithms, which are used to efficiently compare large sets of data. By breaking down the text into shingles, we can represent each document as a set of shingles and use the Jaccard similarity coefficient to compare the similarity between two sets of shingles. This allows us to efficiently compare the similarity between restaurant records based on their name, address, city, phone, and type, even if the records have different lengths or wordings."
   ]
  },
  {
   "cell_type": "markdown",
   "id": "e5602cde",
   "metadata": {},
   "source": [
    "This is a function named get_shingles that takes two arguments, a text string and an integer k, which is set to 5 by default. The function returns a set of shingles, which are substrings of length k created from the input text string.\n",
    "\n",
    "The function first initializes an empty set to store the shingles. It then converts the input text string to lowercase. It iterates over the characters in the string using a loop, with the loop variable i ranging from 0 to the length of the string minus k plus 1. In each iteration, the function creates a substring of length k starting at position i and adds it to the shingles set. Finally, the function returns the shingles set."
   ]
  },
  {
   "cell_type": "code",
   "execution_count": 10,
   "id": "b6ccf281",
   "metadata": {},
   "outputs": [],
   "source": [
    "def get_shingles(text, k=5):\n",
    "    \"\"\"Splits text into shingles of length k.\"\"\"\n",
    "    # Initialize an empty set to store shingles\n",
    "    shingles = set()\n",
    "    \n",
    "    # Convert the text to lowercase\n",
    "    text = text.lower()\n",
    "    \n",
    "    # Iterate over the text to create shingles of length k\n",
    "    for i in range(len(text) - k + 1):\n",
    "        shingle = text[i:i + k]\n",
    "        shingles.add(shingle)\n",
    "    return shingles"
   ]
  },
  {
   "cell_type": "markdown",
   "id": "5004ec88",
   "metadata": {},
   "source": [
    "### Creating MinHash signatures using shingles for each document in the dataset"
   ]
  },
  {
   "cell_type": "markdown",
   "id": "329f2098",
   "metadata": {},
   "source": [
    "MinHash is a probabilistic algorithm used for estimating the similarity between two sets. It uses hash functions to create a signature for each set, which is a binary vector of fixed length. The signature is created by iterating over all elements in the set, and for each element, applying the hash functions to obtain a hash value. The minimum hash value is selected for each hash function, and the resulting vector of minimum hash values is used as the signature.\n",
    "\n",
    "In this project, MinHash signatures are used to represent the shingles extracted from the combined text of each row in the input dataframe. Each row is first preprocessed, including lowercasing, removing numbers, punctuation, whitespace, and stopwords. Then, shingles of length k=5 are extracted using the get_shingles function. A MinHash object with 128 hash functions is created for each shingle set, and the object is updated with each shingle in the set. The resulting signature is a vector of 128 minimum hash values.\n",
    "\n",
    "The significance of using MinHash signatures in this project is that they provide an efficient way to estimate the similarity between two sets. Instead of comparing each shingle in one set with every shingle in another set, which can be computationally expensive for large sets, the Jaccard similarity between the two sets can be approximated using the MinHash signatures. Locality-Sensitive Hashing (LSH) is then used to group similar signatures together, allowing for efficient identification of potential duplicates in the input dataframe."
   ]
  },
  {
   "cell_type": "markdown",
   "id": "38c11022",
   "metadata": {},
   "source": [
    "This code creates MinHash signatures for each document in the dataset. It starts by defining the number of permutations to be used in the MinHash algorithm, which affects its accuracy. The Jaccard similarity threshold is also defined, which is the minimum similarity between two documents required to be considered as duplicates.\n",
    "\n",
    "Then, for each row in the dataframe, the get_shingles function is called to generate shingles for that row's text. A MinHash object is created with the number of permutations defined earlier, and the object is updated with each shingle in the shingle set. Finally, the MinHash signature for that document is appended to the signatures list."
   ]
  },
  {
   "cell_type": "code",
   "execution_count": 11,
   "id": "28302dd7",
   "metadata": {},
   "outputs": [],
   "source": [
    "# Extract shingles and create MinHash signatures for each document\n",
    "num_perm = 228      # num_perm is the number of permutations used in the MinHash algorithm, which affects the accuracy of the algorithm. It is set to 128.\n",
    "threshold = 0.6     # threshold is the Jaccard similarity threshold for identifying similar documents. It is set to 0.6.\n",
    "signatures = []     # An empty list called signatures is initialized to hold the MinHash signatures for each document.\n",
    "for i, row in df.iterrows():\n",
    "    # get_shingles function is called on the 'Combined' column of the current row to generate shingles for that row.\n",
    "    shingles = get_shingles(row['Combined'])\n",
    "    \n",
    "    # A MinHash object is created with the num_perm specified earlier.\n",
    "    minhash = ds.MinHash(num_perm=num_perm)\n",
    "    \n",
    "    for shingle in shingles:\n",
    "        minhash.update(shingle.encode('utf8'))        # The MinHash object is updated with each shingle in the shingle set.\n",
    "        \n",
    "    # The final MinHash signature is appended to the signatures list.\n",
    "    signatures.append(minhash)"
   ]
  },
  {
   "cell_type": "markdown",
   "id": "83089f39",
   "metadata": {},
   "source": [
    "### Initialize LSH index"
   ]
  },
  {
   "cell_type": "markdown",
   "id": "bf80fe25",
   "metadata": {},
   "source": [
    "This line of code creates an instance of the MinHashLSH class from the datasketch library. MinHashLSH is an implementation of Locality-Sensitive Hashing (LSH) algorithm that is used for efficient near-neighbor search in high-dimensional spaces.\n",
    "\n",
    "The threshold parameter sets the Jaccard similarity threshold for identifying similar documents. The num_perm parameter sets the number of permutations used in the MinHash algorithm, which affects the accuracy of the algorithm.\n",
    "\n",
    "By setting the threshold and num_perm parameters, we are defining the similarity metric and the level of accuracy of our LSH index. The MinHashLSH object will be used to index the MinHash signatures generated in the previous step so that we can efficiently search for near-duplicate documents in our dataset."
   ]
  },
  {
   "cell_type": "code",
   "execution_count": 12,
   "id": "67a218d1",
   "metadata": {},
   "outputs": [],
   "source": [
    "lsh = ds.lsh.MinHashLSH(threshold=threshold, num_perm=num_perm)"
   ]
  },
  {
   "cell_type": "markdown",
   "id": "2bff32f1",
   "metadata": {},
   "source": [
    "### Finding Duplicates using Locality-Sensitive Hashing (LSH) Algorithm"
   ]
  },
  {
   "cell_type": "markdown",
   "id": "8001d011",
   "metadata": {},
   "source": [
    "First, the signatures of all the documents are indexed using the LSH algorithm with the specified threshold and number of permutations.\n",
    "Then, for each document in the dataset, its shingles are extracted and a MinHash signature is generated using the same number of permutations as before.\n",
    "The LSH index is queried with this MinHash signature to find any similar documents within the threshold similarity.\n",
    "Finally, any duplicate document pairs found are stored in the 'duplicates' list as tuples of their indices. The comparison only goes one way to avoid duplicate pairs (i.e., only (i, j) is added, not (j, i) if both are similar)."
   ]
  },
  {
   "cell_type": "code",
   "execution_count": 13,
   "id": "411746d6",
   "metadata": {},
   "outputs": [],
   "source": [
    "# Index the signatures\n",
    "for i, signature in enumerate(signatures):\n",
    "    lsh.insert(str(i), signature)\n",
    "\n",
    "# Query the LSH index for similar documents\n",
    "duplicates = []\n",
    "for i, row in df.iterrows():\n",
    "    shingles = get_shingles(row['Combined'])\n",
    "    minhash = ds.MinHash(num_perm=num_perm)\n",
    "    for shingle in shingles:\n",
    "        minhash.update(shingle.encode('utf8'))\n",
    "    query_results = lsh.query(minhash)\n",
    "    for j in query_results:\n",
    "        if i < int(j):\n",
    "            duplicates.append((i, int(j)))"
   ]
  },
  {
   "cell_type": "markdown",
   "id": "c2026461",
   "metadata": {},
   "source": [
    "### Printing Duplicate Rows"
   ]
  },
  {
   "cell_type": "markdown",
   "id": "c9e1e810",
   "metadata": {},
   "source": [
    "This code prints the pairs of similar documents found using Locality-Sensitive Hashing (LSH) on the dataset. For each pair of similar documents, it prints the row numbers and the corresponding values of the columns 'name', 'addr', 'city', 'phone', and 'type' from the original dataset. The pairs of documents are printed with a separator line to visually distinguish them."
   ]
  },
  {
   "cell_type": "code",
   "execution_count": 14,
   "id": "cef32443",
   "metadata": {
    "scrolled": false
   },
   "outputs": [
    {
     "name": "stdout",
     "output_type": "stream",
     "text": [
      "Rows:  (0, 1) --- [\"arnie morton's of chicago\", '435 s. la cienega blv.', 'los angeles', '310/246-1501', 'american', 0] \t [\"arnie morton's of chicago\", '435 s. la cienega blvd.', 'los angeles', '310-246-1501', 'steakhouses', 0]\n",
      "--------------------------------------------------------------------------\n",
      "Rows:  (4, 5) --- ['hotel bel-air', '701 stone canyon rd.', 'bel air', '310/472-1211', 'californian', 2] \t ['bel-air hotel', '701 stone canyon rd.', 'bel air', '310-472-1211', 'californian', 2]\n",
      "--------------------------------------------------------------------------\n",
      "Rows:  (6, 7) --- ['cafe bizou', '14016 ventura blvd.', 'sherman oaks', '818/788-3536', 'french', 3] \t ['cafe bizou', '14016 ventura blvd.', 'sherman oaks', '818-788-3536', 'french bistro', 3]\n",
      "--------------------------------------------------------------------------\n",
      "Rows:  (12, 13) --- ['citrus', '6703 melrose ave.', 'los angeles', '213/857-0034', 'californian', 6] \t ['citrus', '6703 melrose ave.', 'los angeles', '213-857-0034', 'californian', 6]\n",
      "--------------------------------------------------------------------------\n",
      "Rows:  (12, 33) --- ['citrus', '6703 melrose ave.', 'los angeles', '213/857-0034', 'californian', 6] \t ['patina', '5955 melrose ave.', 'los angeles', '213-467-1108', 'californian', 16]\n",
      "--------------------------------------------------------------------------\n",
      "Rows:  (12, 244) --- ['citrus', '6703 melrose ave.', 'los angeles', '213/857-0034', 'californian', 6] \t ['eclipse', '8800 melrose ave.', 'los angeles', '310/724-5959', 'californian', 132]\n",
      "--------------------------------------------------------------------------\n",
      "Rows:  (12, 32) --- ['citrus', '6703 melrose ave.', 'los angeles', '213/857-0034', 'californian', 6] \t ['patina', '5955 melrose ave.', 'los angeles', '213/467-1108', 'californian', 16]\n",
      "--------------------------------------------------------------------------\n",
      "Rows:  (13, 33) --- ['citrus', '6703 melrose ave.', 'los angeles', '213-857-0034', 'californian', 6] \t ['patina', '5955 melrose ave.', 'los angeles', '213-467-1108', 'californian', 16]\n",
      "--------------------------------------------------------------------------\n",
      "Rows:  (13, 244) --- ['citrus', '6703 melrose ave.', 'los angeles', '213-857-0034', 'californian', 6] \t ['eclipse', '8800 melrose ave.', 'los angeles', '310/724-5959', 'californian', 132]\n",
      "--------------------------------------------------------------------------\n",
      "Rows:  (13, 32) --- ['citrus', '6703 melrose ave.', 'los angeles', '213-857-0034', 'californian', 6] \t ['patina', '5955 melrose ave.', 'los angeles', '213/467-1108', 'californian', 16]\n",
      "--------------------------------------------------------------------------\n",
      "Rows:  (16, 17) --- ['granita', '23725 w. malibu rd.', 'malibu', '310/456-0488', 'californian', 8] \t ['granita', '23725 w. malibu rd.', 'malibu', '310-456-0488', 'californian', 8]\n",
      "--------------------------------------------------------------------------\n",
      "Rows:  (22, 242) --- [\"l'orangerie\", '903 n. la cienega blvd.', 'los angeles', '310/652-9770', 'french', 11] \t [\"drai's\", '730 n. la cienega blvd.', 'los angeles', '310/358-8585', 'french', 130]\n",
      "--------------------------------------------------------------------------\n",
      "Rows:  (26, 27) --- ['locanda veneta', '3rd st.', 'los angeles', '310/274-1893', 'italian', 13] \t ['locanda veneta', '8638 w. third st.', 'los angeles', '310-274-1893', 'italian', 13]\n",
      "--------------------------------------------------------------------------\n",
      "Rows:  (28, 29) --- ['matsuhisa', '129 n. la cienega blvd.', 'beverly hills', '310/659-9639', 'asian', 14] \t ['matsuhisa', '129 n. la cienega blvd.', 'beverly hills', '310-659-9639', 'seafood', 14]\n",
      "--------------------------------------------------------------------------\n",
      "Rows:  (30, 249) --- ['the palm', '9001 santa monica blvd.', 'los angeles', '310/550-8811', 'american', 15] \t ['hard rock cafe', '8600 beverly blvd.', 'los angeles', '310/276-7605', 'american', 137]\n",
      "--------------------------------------------------------------------------\n",
      "Rows:  (32, 33) --- ['patina', '5955 melrose ave.', 'los angeles', '213/467-1108', 'californian', 16] \t ['patina', '5955 melrose ave.', 'los angeles', '213-467-1108', 'californian', 16]\n",
      "--------------------------------------------------------------------------\n",
      "Rows:  (32, 244) --- ['patina', '5955 melrose ave.', 'los angeles', '213/467-1108', 'californian', 16] \t ['eclipse', '8800 melrose ave.', 'los angeles', '310/724-5959', 'californian', 132]\n",
      "--------------------------------------------------------------------------\n",
      "Rows:  (33, 244) --- ['patina', '5955 melrose ave.', 'los angeles', '213-467-1108', 'californian', 16] \t ['eclipse', '8800 melrose ave.', 'los angeles', '310/724-5959', 'californian', 132]\n",
      "--------------------------------------------------------------------------\n",
      "Rows:  (38, 39) --- ['rex il ristorante', '617 s. olive st.', 'los angeles', '213/627-2300', 'italian', 19] \t ['rex il ristorante', '617 s. olive st.', 'los angeles', '213-627-2300', 'nuova cucina italian', 19]\n",
      "--------------------------------------------------------------------------\n",
      "Rows:  (42, 43) --- ['valentino', '3115 pico blvd.', 'santa monica', '310/829-4313', 'italian', 21] \t ['valentino', '3115 pico blvd.', 'santa monica', '310-829-4313', 'italian', 21]\n",
      "--------------------------------------------------------------------------\n",
      "Rows:  (46, 373) --- ['21 club', '21 w. 52nd st.', 'new york', '212/582-7200', 'american', 23] \t ['hard rock cafe', '221 w. 57th st.', 'new york', '212/489-6565', 'american', 261]\n",
      "--------------------------------------------------------------------------\n",
      "Rows:  (47, 51) --- ['21 club', '21 w. 52nd st.', 'new york city', '212-582-7200', 'american (new)', 23] \t ['aureole', '34 e. 61st st.', 'new york city', '212-319-1660', 'american (new)', 25]\n",
      "--------------------------------------------------------------------------\n",
      "Rows:  (47, 713) --- ['21 club', '21 w. 52nd st.', 'new york city', '212-582-7200', 'american (new)', 23] \t ['arcadia', '21 e. 62nd st.', 'new york city', '212-223-2900', 'american (new)', 603]\n",
      "--------------------------------------------------------------------------\n",
      "Rows:  (52, 53) --- ['cafe lalo', '201 w. 83rd st.', 'new york', '212/496-6031', 'coffee bar', 26] \t ['cafe lalo', '201 w. 83rd st.', 'new york city', '212-496-6031', 'coffeehouses', 26]\n",
      "--------------------------------------------------------------------------\n",
      "Rows:  (55, 733) --- ['cafe des artistes', '1 w. 67th st.', 'new york city', '212-877-3500', 'french (classic)', 27] \t ['la grenouille', '3 e. 52nd st.', 'new york city', '212-752-1495', 'french (classic)', 623]\n",
      "--------------------------------------------------------------------------\n",
      "Rows:  (55, 89) --- ['cafe des artistes', '1 w. 67th st.', 'new york city', '212-877-3500', 'french (classic)', 27] \t ['lutece', '249 e. 50th st.', 'new york city', '212-752-2225', 'french (classic)', 44]\n",
      "--------------------------------------------------------------------------\n",
      "Rows:  (60, 61) --- ['chanterelle', '2 harrison st.  near hudson st.', 'new york', '212/966-6960', 'american', 30] \t ['chanterelle', '2 harrison st.', 'new york city', '212-966-6960', 'french (new)', 30]\n",
      "--------------------------------------------------------------------------\n",
      "Rows:  (62, 314) --- ['daniel', '20 e. 76th st.', 'new york', '212/288-0033', 'french', 31] \t ['cafe luxembourg', '200 w. 70th st.', 'new york', '212/873-7411', 'french', 202]\n",
      "--------------------------------------------------------------------------\n",
      "Rows:  (63, 89) --- ['daniel', '20 e. 76th st.', 'new york city', '212-288-0033', 'french (new)', 31] \t ['lutece', '249 e. 50th st.', 'new york city', '212-752-2225', 'french (classic)', 44]\n",
      "--------------------------------------------------------------------------\n",
      "Rows:  (65, 719) --- ['dawat', '210 e. 58th st.', 'new york city', '212-355-7555', 'indian', 32] \t ['darbar', '44 w. 56th st.', 'new york city', '212-432-7227', 'indian', 609]\n",
      "--------------------------------------------------------------------------\n",
      "Rows:  (66, 67) --- ['felidia', '243 e. 58th st.', 'new york', '212/758-1479', 'italian', 33] \t ['felidia', '243 e. 58th st.', 'new york city', '212-758-1479', 'italian', 33]\n",
      "--------------------------------------------------------------------------\n",
      "Rows:  (70, 76) --- ['gotham bar & grill', '12 e. 12th st.', 'new york', '212/620-4020', 'american', 35] \t ['jo jo', '160 e. 64th st.', 'new york', '212/223-5656', 'american', 38]\n",
      "--------------------------------------------------------------------------\n",
      "Rows:  (70, 486) --- ['gotham bar & grill', '12 e. 12th st.', 'new york', '212/620-4020', 'american', 35] \t ['water club', '500 e. 30th st.', 'new york', '212/683-3333', 'american', 374]\n",
      "--------------------------------------------------------------------------\n",
      "Rows:  (70, 485) --- ['gotham bar & grill', '12 e. 12th st.', 'new york', '212/620-4020', 'american', 35] \t ['vong', '200 e. 54th st.', 'new york', '212/486-9592', 'american', 373]\n",
      "--------------------------------------------------------------------------\n",
      "Rows:  (70, 437) --- ['gotham bar & grill', '12 e. 12th st.', 'new york', '212/620-4020', 'american', 35] \t ['pen & pencil', '205 e. 45th st.', 'new york', '212/682-8660', 'american', 325]\n",
      "--------------------------------------------------------------------------\n",
      "Rows:  (73, 131) --- ['gramercy tavern', '42 e. 20th st.', 'new york city', '212-477-0777', 'american (new)', 36] \t ['union square cafe', '21 e. 16th st.', 'new york city', '212-243-4020', 'american (new)', 65]\n",
      "--------------------------------------------------------------------------\n",
      "Rows:  (76, 486) --- ['jo jo', '160 e. 64th st.', 'new york', '212/223-5656', 'american', 38] \t ['water club', '500 e. 30th st.', 'new york', '212/683-3333', 'american', 374]\n",
      "--------------------------------------------------------------------------\n",
      "Rows:  (76, 92) --- ['jo jo', '160 e. 64th st.', 'new york', '212/223-5656', 'american', 38] \t ['march', '405 e. 58th st.', 'new york', '212/754-6272', 'american', 46]\n",
      "--------------------------------------------------------------------------\n",
      "Rows:  (76, 485) --- ['jo jo', '160 e. 64th st.', 'new york', '212/223-5656', 'american', 38] \t ['vong', '200 e. 54th st.', 'new york', '212/486-9592', 'american', 373]\n",
      "--------------------------------------------------------------------------\n",
      "Rows:  (76, 437) --- ['jo jo', '160 e. 64th st.', 'new york', '212/223-5656', 'american', 38] \t ['pen & pencil', '205 e. 45th st.', 'new york', '212/682-8660', 'american', 325]\n",
      "--------------------------------------------------------------------------\n",
      "Rows:  (88, 350) --- ['lutece', '249 e. 50th st.', 'new york', '212/752-2225', 'french', 44] \t ['ferrier', '29 e. 65th st.', 'new york', '212/772-9000', 'french', 238]\n",
      "--------------------------------------------------------------------------\n",
      "Rows:  (88, 361) --- ['lutece', '249 e. 50th st.', 'new york', '212/752-2225', 'french', 44] \t ['french roast', '458 6th ave. at 11th st.', 'new york', '212/533-2233', 'french', 249]\n",
      "--------------------------------------------------------------------------\n",
      "Rows:  (89, 733) --- ['lutece', '249 e. 50th st.', 'new york city', '212-752-2225', 'french (classic)', 44] \t ['la grenouille', '3 e. 52nd st.', 'new york city', '212-752-1495', 'french (classic)', 623]\n",
      "--------------------------------------------------------------------------\n",
      "Rows:  (90, 91) --- ['manhattan ocean club', '57 w. 58th st.', 'new york', '212/ 371-7777', 'seafood', 45] \t ['manhattan ocean club', '57 w. 58th st.', 'new york city', '212-371-7777', 'seafood', 45]\n",
      "--------------------------------------------------------------------------\n",
      "Rows:  (92, 458) --- ['march', '405 e. 58th st.', 'new york', '212/754-6272', 'american', 46] \t ['serendipity', '3 225 e. 60th st.', 'new york', '212/838-3531', 'american', 346]\n",
      "--------------------------------------------------------------------------\n",
      "Rows:  (92, 485) --- ['march', '405 e. 58th st.', 'new york', '212/754-6272', 'american', 46] \t ['vong', '200 e. 54th st.', 'new york', '212/486-9592', 'american', 373]\n",
      "--------------------------------------------------------------------------\n",
      "Rows:  (92, 437) --- ['march', '405 e. 58th st.', 'new york', '212/754-6272', 'american', 46] \t ['pen & pencil', '205 e. 45th st.', 'new york', '212/682-8660', 'american', 325]\n",
      "--------------------------------------------------------------------------\n",
      "Rows:  (94, 355) --- ['mesa grill', '102 5th ave.  between 15th and 16th sts.', 'new york', '212/807-7400', 'american', 47] \t ['first', '87 1st ave.  between 5th and 6th sts.', 'new york', '212/674-3823', 'american', 243]\n",
      "--------------------------------------------------------------------------\n",
      "Rows:  (100, 108) --- ['oceana', '55 e. 54th st.', 'new york', '212/759-5941', 'seafood', 50] \t ['pisces', '95 ave. a at 6th st.', 'new york', '212/260-6660', 'seafood', 54]\n",
      "--------------------------------------------------------------------------\n",
      "Rows:  (104, 393) --- ['petrossian', '182 w. 58th st.', 'new york', '212/245-2214', 'french', 52] \t ['la reserve', '4 w. 49th st.', 'new york', '212/247-2993', 'french', 281]\n",
      "--------------------------------------------------------------------------\n",
      "Rows:  (104, 332) --- ['petrossian', '182 w. 58th st.', 'new york', '212/245-2214', 'french', 52] \t ['cite', '120 w. 51st st.', 'new york', '212/956-7100', 'french', 220]\n",
      "--------------------------------------------------------------------------\n",
      "Rows:  (106, 107) --- ['picholine', '35 w. 64th st.', 'new york', '212/724-8585', 'mediterranean', 53] \t ['picholine', '35 w. 64th st.', 'new york city', '212-724-8585', 'mediterranean', 53]\n",
      "--------------------------------------------------------------------------\n",
      "Rows:  (114, 115) --- ['san domenico', '240 central park s', 'new york', '212/265-5959', 'italian', 57] \t ['san domenico', '240 central park s.', 'new york city', '212-265-5959', 'italian', 57]\n",
      "--------------------------------------------------------------------------\n",
      "Rows:  (128, 488) --- [\"uncle nick's\", '747 9th ave.  between 50th and 51st sts.', 'new york', '212/315-1726', 'mediterranean', 64] \t ['xunta', '174 1st ave.  between 10th and 11th sts.', 'new york', '212/614-0620', 'mediterranean', 376]\n",
      "--------------------------------------------------------------------------\n",
      "Rows:  (130, 422) --- ['union square cafe', '21 e. 16th st.', 'new york', '212/243-4020', 'american', 65] \t [\"morton's\", '551 5th ave. at 45th st.', 'new york', '212/972-3315', 'american', 310]\n",
      "--------------------------------------------------------------------------\n",
      "Rows:  (130, 294) --- ['union square cafe', '21 e. 16th st.', 'new york', '212/243-4020', 'american', 65] \t ['arizona', '206 206 e. 60th st.', 'new york', '212/838-0440', 'american', 182]\n",
      "--------------------------------------------------------------------------\n",
      "Rows:  (130, 484) --- ['union square cafe', '21 e. 16th st.', 'new york', '212/243-4020', 'american', 65] \t [\"vince & eddie's\", '70 w. 68th st.', 'new york', '212/721-0068', 'american', 372]\n",
      "--------------------------------------------------------------------------\n",
      "Rows:  (134, 135) --- [\"chin's\", '3200 las vegas blvd. s', 'las vegas', '702/733-8899', 'asian', 67] \t [\"chin's\", '3200 las vegas blvd. s.', 'las vegas', '702-733-8899', 'chinese', 67]\n",
      "--------------------------------------------------------------------------\n",
      "Rows:  (134, 558) --- [\"chin's\", '3200 las vegas blvd. s', 'las vegas', '702/733-8899', 'asian', 67] \t ['mikado', '3400 las vegas blvd. s', 'las vegas', '702/791-7111', 'asian', 446]\n",
      "--------------------------------------------------------------------------\n",
      "Rows:  (135, 776) --- [\"chin's\", '3200 las vegas blvd. s.', 'las vegas', '702-733-8899', 'chinese', 67] \t ['moongate', '3400 las vegas blvd. s.', 'las vegas', '702-791-7352', 'chinese', 666]\n",
      "--------------------------------------------------------------------------\n",
      "Rows:  (136, 137) --- ['coyote cafe', '3799 las vegas blvd. s', 'las vegas', '702/891-7349', 'southwestern', 68] \t ['coyote cafe (las vegas)', '3799 las vegas blvd. s.', 'las vegas', '702-891-7349', 'southwestern', 68]\n",
      "--------------------------------------------------------------------------\n",
      "Rows:  (144, 145) --- ['steak house', '2880 las vegas blvd. s', 'las vegas', '702/734-0410', 'steak houses', 72] \t ['steak house  the', '2880 las vegas blvd. s.', 'las vegas', '702-734-0410', 'steakhouses', 72]\n",
      "--------------------------------------------------------------------------\n",
      "Rows:  (146, 147) --- ['tillerman', '2245 e. flamingo rd.', 'las vegas', '702/731-4036', 'seafood', 73] \t ['tillerman  the', '2245 e. flamingo rd.', 'las vegas', '702-731-4036', 'steakhouses', 73]\n",
      "--------------------------------------------------------------------------\n",
      "Rows:  (156, 157) --- ['buckhead diner', '3073 piedmont road', 'atlanta', '404/262-3336', 'american', 78] \t ['buckhead diner', '3073 piedmont rd.', 'atlanta', '404-262-3336', 'american (new)', 78]\n",
      "--------------------------------------------------------------------------\n",
      "Rows:  (160, 161) --- ['delectables', '1 margaret mitchell sq.', 'atlanta', '404/681-2909', 'american', 80] \t ['delectables', '1 margaret mitchell sq.', 'atlanta', '404-681-2909', 'cafeterias', 80]\n",
      "--------------------------------------------------------------------------\n",
      "Rows:  (163, 816) --- ['georgia grille', '2290 peachtree rd.', 'atlanta', '404-352-3517', 'southwestern', 81] \t ['nava', '3060 peachtree rd.', 'atlanta', '404-240-1984', 'southwestern', 706]\n",
      "--------------------------------------------------------------------------\n",
      "Rows:  (172, 173) --- [\"mary mac's tea room\", '224 ponce de leon ave.', 'atlanta', '404/876-1800', 'southern', 86] \t [\"mary mac's tea room\", '224 ponce de leon ave.', 'atlanta', '404-876-1800', 'southern/soul', 86]\n",
      "--------------------------------------------------------------------------\n",
      "Rows:  (174, 175) --- [\"nikolai's roof\", '255 courtland st.  at harris st.', 'atlanta', '404/221-6362', 'continental', 87] \t [\"nikolai's roof\", '255 courtland st.', 'atlanta', '404-221-6362', 'continental', 87]\n",
      "--------------------------------------------------------------------------\n",
      "Rows:  (178, 180) --- ['cafe  ritz-carlton  buckhead', '3434 peachtree rd.', 'atlanta', '404/237-2700', 'ext 6108 international', 89] \t ['dining room  ritz-carlton  buckhead', '3434 peachtree rd.', 'atlanta', '404/237-2700', 'international', 90]\n",
      "--------------------------------------------------------------------------\n",
      "Rows:  (179, 181) --- ['ritz-carlton cafe (buckhead)', '3434 peachtree rd. ne', 'atlanta', '404-237-2700', 'american (new)', 89] \t ['ritz-carlton dining room (buckhead)', '3434 peachtree rd. ne', 'atlanta', '404-237-2700', 'american (new)', 90]\n",
      "--------------------------------------------------------------------------\n",
      "Rows:  (184, 185) --- ['toulouse', 'b peachtree rd.', 'atlanta', '404/351-9533', 'french', 92] \t ['toulouse', '293-b peachtree rd.', 'atlanta', '404-351-9533', 'french (new)', 92]\n",
      "--------------------------------------------------------------------------\n",
      "Rows:  (186, 187) --- ['veni vidi vici', '41 14th st.', 'atlanta', '404/875-8424', 'italian', 93] \t ['veni vidi vici', '41 14th st.', 'atlanta', '404-875-8424', 'italian', 93]\n",
      "--------------------------------------------------------------------------\n",
      "Rows:  (188, 189) --- ['alain rondelli', '126 clement st.', 'san francisco', '415/387-0408', 'french', 94] \t ['alain rondelli', '126 clement st.', 'san francisco', '415-387-0408', 'french (new)', 94]\n",
      "--------------------------------------------------------------------------\n",
      "Rows:  (191, 205) --- ['aqua', '252 california st.', 'san francisco', '415-956-9662', 'american (new)', 95] \t ['hawthorne lane', '22 hawthorne st.', 'san francisco', '415-777-9779', 'californian', 102]\n",
      "--------------------------------------------------------------------------\n",
      "Rows:  (192, 846) --- ['boulevard', '1 mission st.', 'san francisco', '415/543-6084', 'american', 96] \t ['la taqueria', '2889 mission st.', 'san francisco', '415-285-7117', 'mexican', 736]\n",
      "--------------------------------------------------------------------------\n",
      "Rows:  (192, 617) --- ['boulevard', '1 mission st.', 'san francisco', '415/543-6084', 'american', 96] \t [\"perry's\", '1944 union st.', 'san francisco', '415/922-9022', 'american', 506]\n",
      "--------------------------------------------------------------------------\n",
      "Rows:  (192, 193) --- ['boulevard', '1 mission st.', 'san francisco', '415/543-6084', 'american', 96] \t ['boulevard', '1 mission st.', 'san francisco', '415-543-6084', 'american (new)', 96]\n",
      "--------------------------------------------------------------------------\n",
      "Rows:  (193, 846) --- ['boulevard', '1 mission st.', 'san francisco', '415-543-6084', 'american (new)', 96] \t ['la taqueria', '2889 mission st.', 'san francisco', '415-285-7117', 'mexican', 736]\n",
      "--------------------------------------------------------------------------\n",
      "Rows:  (193, 617) --- ['boulevard', '1 mission st.', 'san francisco', '415-543-6084', 'american (new)', 96] \t [\"perry's\", '1944 union st.', 'san francisco', '415/922-9022', 'american', 506]\n",
      "--------------------------------------------------------------------------\n",
      "Rows:  (196, 197) --- ['campton place', '340 stockton st.', 'san francisco', '415/955-5555', 'american', 98] \t ['campton place', '340 stockton st.', 'san francisco', '415-955-5555', 'american (new)', 98]\n",
      "--------------------------------------------------------------------------\n",
      "Rows:  (200, 201) --- ['fleur de lys', '777 sutter st.', 'san francisco', '415/673-7779', 'french', 100] \t ['fleur de lys', '777 sutter st.', 'san francisco', '415-673-7779', 'french (new)', 100]\n",
      "--------------------------------------------------------------------------\n",
      "Rows:  (206, 207) --- ['khan toke thai house', '5937 geary blvd.', 'san francisco', '415/668-6654', 'asian', 103] \t ['khan toke thai house', '5937 geary blvd.', 'san francisco', '415-668-6654', 'thai', 103]\n",
      "--------------------------------------------------------------------------\n",
      "Rows:  (208, 209) --- ['la folie', '2316 polk st.', 'san francisco', '415/776-5577', 'french', 104] \t ['la folie', '2316 polk st.', 'san francisco', '415-776-5577', 'french (new)', 104]\n",
      "--------------------------------------------------------------------------\n",
      "Rows:  (212, 213) --- [\"masa's\", '648 bush st.', 'san francisco', '415/989-7154', 'french', 106] \t [\"masa's\", '648 bush st.', 'san francisco', '415-989-7154', 'french (new)', 106]\n",
      "--------------------------------------------------------------------------\n",
      "Rows:  (217, 859) --- ['plumpjack cafe', '3127 fillmore st.', 'san francisco', '415-563-4755', 'american (new)', 108] \t ['trio cafe', '1870 fillmore st.', 'san francisco', '415-563-2248', 'american', 749]\n",
      "--------------------------------------------------------------------------\n",
      "Rows:  (222, 223) --- ['rose pistola', '532 columbus ave.', 'san francisco', '415/399-0499', 'italian', 111] \t ['rose pistola', '532 columbus ave.', 'san francisco', '415-399-0499', 'italian', 111]\n",
      "--------------------------------------------------------------------------\n",
      "Rows:  (235, 275) --- ['cava', '3rd st.', 'los angeles', '213/658-8898', 'mediterranean', 123] \t ['sofi', '3rd st.', 'los angeles', '213/651-0346', 'mediterranean', 163]\n",
      "--------------------------------------------------------------------------\n",
      "Rows:  (288, 427) --- ['aja', '937 broadway at 22nd st.', 'new york', '212/473-8388', 'american', 176] \t ['odeon', '145 w. broadway at thomas st.', 'new york', '212/233-0507', 'american', 315]\n",
      "--------------------------------------------------------------------------\n",
      "Rows:  (293, 368) --- ['anche vivolo', '222 e. 58th st.  between 2nd and 3rd aves.', 'new york', '212/308-0112', 'italian', 181] \t ['girafe', '208 e. 58th st.  between 2nd and 3rd aves.', 'new york', '212/752-3054', 'italian', 256]\n",
      "--------------------------------------------------------------------------\n",
      "Rows:  (294, 422) --- ['arizona', '206 206 e. 60th st.', 'new york', '212/838-0440', 'american', 182] \t [\"morton's\", '551 5th ave. at 45th st.', 'new york', '212/972-3315', 'american', 310]\n",
      "--------------------------------------------------------------------------\n",
      "Rows:  (294, 460) --- ['arizona', '206 206 e. 60th st.', 'new york', '212/838-0440', 'american', 182] \t ['sfuzzi', '58 w. 65th st.', 'new york', '212/873-3700', 'american', 348]\n",
      "--------------------------------------------------------------------------\n",
      "Rows:  (294, 484) --- ['arizona', '206 206 e. 60th st.', 'new york', '212/838-0440', 'american', 182] \t [\"vince & eddie's\", '70 w. 68th st.', 'new york', '212/721-0068', 'american', 372]\n",
      "--------------------------------------------------------------------------\n",
      "Rows:  (294, 485) --- ['arizona', '206 206 e. 60th st.', 'new york', '212/838-0440', 'american', 182] \t ['vong', '200 e. 54th st.', 'new york', '212/486-9592', 'american', 373]\n",
      "--------------------------------------------------------------------------\n",
      "Rows:  (301, 304) --- [\"billy's\", '948 1st ave.  between 52nd and 53rd sts.', 'new york', '212/753-1870', 'american', 189] \t ['boonthai', '1393a 2nd ave.  between 72nd and 73rd sts.', 'new york', '212/249-8484', 'asian', 192]\n",
      "--------------------------------------------------------------------------\n",
      "Rows:  (301, 421) --- [\"billy's\", '948 1st ave.  between 52nd and 53rd sts.', 'new york', '212/753-1870', 'american', 189] \t ['montien', '1134 1st ave.   between 62nd and 63rd sts.', 'new york', '212/421-4433', 'asian', 309]\n",
      "--------------------------------------------------------------------------\n",
      "Rows:  (304, 421) --- ['boonthai', '1393a 2nd ave.  between 72nd and 73rd sts.', 'new york', '212/249-8484', 'asian', 192] \t ['montien', '1134 1st ave.   between 62nd and 63rd sts.', 'new york', '212/421-4433', 'asian', 309]\n",
      "--------------------------------------------------------------------------\n",
      "Rows:  (307, 454) --- ['bruno', '240 e. 58th st.', 'new york', '212/688-4190', 'italian', 195] \t ['san pietro', '18 e. 54th st.', 'new york', '212/753-9015', 'italian', 342]\n",
      "--------------------------------------------------------------------------\n",
      "Rows:  (307, 333) --- ['bruno', '240 e. 58th st.', 'new york', '212/688-4190', 'italian', 195] \t ['coco pazzo', '23 e. 74th st.', 'new york', '212/794-0205', 'italian', 221]\n",
      "--------------------------------------------------------------------------\n",
      "Rows:  (324, 395) --- ['caffe bondi ristorante', '7 w. 20th st.', 'new york', '212/691-8136', 'italian', 212] \t ['lattanzi ristorante', '361 w. 46th st.', 'new york', '212/315-0980', 'italian', 283]\n",
      "--------------------------------------------------------------------------\n",
      "Rows:  (330, 430) --- ['chiam', '160 e. 48th st.', 'new york', '212/371-2323', 'asian', 218] \t ['otabe', '68 e. 56th st.', 'new york', '212/223-7575', 'asian', 318]\n",
      "--------------------------------------------------------------------------\n",
      "Rows:  (331, 388) --- ['china grill', '60 w. 53rd st.', 'new york', '212/333-7788', 'american', 219] \t ['judson grill', '152 w. 52nd st.', 'new york', '212/582-5252', 'american', 276]\n",
      "--------------------------------------------------------------------------\n",
      "Rows:  (332, 393) --- ['cite', '120 w. 51st st.', 'new york', '212/956-7100', 'french', 220] \t ['la reserve', '4 w. 49th st.', 'new york', '212/247-2993', 'french', 281]\n",
      "--------------------------------------------------------------------------\n",
      "Rows:  (344, 422) --- [\"emily's\", '1325 5th ave. at 111th st.', 'new york', '212/996-1212', 'american', 232] \t [\"morton's\", '551 5th ave. at 45th st.', 'new york', '212/972-3315', 'american', 310]\n",
      "--------------------------------------------------------------------------\n",
      "Rows:  (350, 361) --- ['ferrier', '29 e. 65th st.', 'new york', '212/772-9000', 'french', 238] \t ['french roast', '458 6th ave. at 11th st.', 'new york', '212/533-2233', 'french', 249]\n",
      "--------------------------------------------------------------------------\n",
      "Rows:  (355, 369) --- ['first', '87 1st ave.  between 5th and 6th sts.', 'new york', '212/674-3823', 'american', 243] \t ['global', '33 93 2nd ave.  between 5th and 6th sts.', 'new york', '212/477-8427', 'american', 257]\n",
      "--------------------------------------------------------------------------\n",
      "Rows:  (358, 442) --- ['flowers', '21 west 17th st.  between 5th and 6th aves.', 'new york', '212/691-8888', 'american', 246] \t ['popover cafe', '551 amsterdam ave.  between 86th and 87th sts.', 'new york', '212/595-8555', 'american', 330]\n",
      "--------------------------------------------------------------------------\n",
      "Rows:  (358, 456) --- ['flowers', '21 west 17th st.  between 5th and 6th aves.', 'new york', '212/691-8888', 'american', 246] \t [\"sarabeth's kitchen\", '423 amsterdam ave.  between 80th and 81st sts.', 'new york', '212/496-6280', 'american', 344]\n",
      "--------------------------------------------------------------------------\n",
      "Rows:  (366, 388) --- [\"gallagher's\", '228 w. 52nd st.', 'new york', '212/245-5336', 'american', 254] \t ['judson grill', '152 w. 52nd st.', 'new york', '212/582-5252', 'american', 276]\n",
      "--------------------------------------------------------------------------\n",
      "Rows:  (379, 475) --- ['il nido', '251 e. 53rd st.', 'new york', '212/753-8450', 'italian', 267] \t ['triangolo', '345 e. 83rd st.', 'new york', '212/472-4488', 'italian', 363]\n",
      "--------------------------------------------------------------------------\n",
      "Rows:  (390, 479) --- [\"l'auberge\", '1191 1st ave.  between 64th and 65th sts.', 'new york', '212/288-8791', 'middle eastern', 278] \t ['turkish kitchen', '386 3rd ave.  between 27th and 28th sts.', 'new york', '212/679-1810', 'middle eastern', 367]\n",
      "--------------------------------------------------------------------------\n",
      "Rows:  (390, 439) --- [\"l'auberge\", '1191 1st ave.  between 64th and 65th sts.', 'new york', '212/288-8791', 'middle eastern', 278] \t ['persepolis', '1423 2nd ave.  between 74th and 75th sts.', 'new york', '212/535-1100', 'middle eastern', 327]\n",
      "--------------------------------------------------------------------------\n",
      "Rows:  (401, 428) --- ['le madri', '168 w. 18th st.', 'new york', '212/727-8022', 'italian', 289] \t ['orso', '322 w. 46th st.', 'new york', '212/489-7212', 'italian', 316]\n",
      "--------------------------------------------------------------------------\n",
      "Rows:  (422, 484) --- [\"morton's\", '551 5th ave. at 45th st.', 'new york', '212/972-3315', 'american', 310] \t [\"vince & eddie's\", '70 w. 68th st.', 'new york', '212/721-0068', 'american', 372]\n",
      "--------------------------------------------------------------------------\n",
      "Rows:  (428, 454) --- ['orso', '322 w. 46th st.', 'new york', '212/489-7212', 'italian', 316] \t ['san pietro', '18 e. 54th st.', 'new york', '212/753-9015', 'italian', 342]\n",
      "--------------------------------------------------------------------------\n",
      "Rows:  (437, 486) --- ['pen & pencil', '205 e. 45th st.', 'new york', '212/682-8660', 'american', 325] \t ['water club', '500 e. 30th st.', 'new york', '212/683-3333', 'american', 374]\n",
      "--------------------------------------------------------------------------\n",
      "Rows:  (437, 485) --- ['pen & pencil', '205 e. 45th st.', 'new york', '212/682-8660', 'american', 325] \t ['vong', '200 e. 54th st.', 'new york', '212/486-9592', 'american', 373]\n",
      "--------------------------------------------------------------------------\n",
      "Rows:  (439, 479) --- ['persepolis', '1423 2nd ave.  between 74th and 75th sts.', 'new york', '212/535-1100', 'middle eastern', 327] \t ['turkish kitchen', '386 3rd ave.  between 27th and 28th sts.', 'new york', '212/679-1810', 'middle eastern', 367]\n",
      "--------------------------------------------------------------------------\n",
      "Rows:  (442, 456) --- ['popover cafe', '551 amsterdam ave.  between 86th and 87th sts.', 'new york', '212/595-8555', 'american', 330] \t [\"sarabeth's kitchen\", '423 amsterdam ave.  between 80th and 81st sts.', 'new york', '212/496-6280', 'american', 344]\n",
      "--------------------------------------------------------------------------\n",
      "Rows:  (458, 485) --- ['serendipity', '3 225 e. 60th st.', 'new york', '212/838-3531', 'american', 346] \t ['vong', '200 e. 54th st.', 'new york', '212/486-9592', 'american', 373]\n",
      "--------------------------------------------------------------------------\n",
      "Rows:  (485, 486) --- ['vong', '200 e. 54th st.', 'new york', '212/486-9592', 'american', 373] \t ['water club', '500 e. 30th st.', 'new york', '212/683-3333', 'american', 374]\n",
      "--------------------------------------------------------------------------\n",
      "Rows:  (491, 813) --- ['abbey', '163 ponce de leon ave.', 'atlanta', '404/876-8532', 'international', 379] \t ['majestic', '1031 ponce de leon ave.', 'atlanta', '404-875-0276', 'diners', 703]\n",
      "--------------------------------------------------------------------------\n",
      "Rows:  (491, 800) --- ['abbey', '163 ponce de leon ave.', 'atlanta', '404/876-8532', 'international', 379] \t ['eats', '600 ponce de leon ave.', 'atlanta', '404-888-9149', 'italian', 690]\n",
      "--------------------------------------------------------------------------\n",
      "Rows:  (517, 534) --- ['luna si', '1931 peachtree rd.', 'atlanta', '404/355-5993', 'continental', 405] \t ['tomtom', '3393 peachtree rd.', 'atlanta', '404/264-1163', 'continental', 422]\n",
      "--------------------------------------------------------------------------\n",
      "Rows:  (522, 534) --- ['palisades', '1829 peachtree rd.', 'atlanta', '404/350-6755', 'continental', 410] \t ['tomtom', '3393 peachtree rd.', 'atlanta', '404/264-1163', 'continental', 422]\n",
      "--------------------------------------------------------------------------\n",
      "Rows:  (543, 545) --- [\"bugsy's diner\", '3555 las vegas blvd. s', 'las vegas', '702/733-3111', 'coffee shops/diners', 431] \t ['cafe roma', '3570 las vegas blvd. s', 'las vegas', '702/731-7547', 'coffee shops/diners', 433]\n",
      "--------------------------------------------------------------------------\n",
      "Rows:  (543, 560) --- [\"bugsy's diner\", '3555 las vegas blvd. s', 'las vegas', '702/733-3111', 'coffee shops/diners', 431] \t [\"ralph's diner\", '3000 las vegas blvd. s', 'las vegas', '702/732-6330', 'coffee shops/diners', 448]\n",
      "--------------------------------------------------------------------------\n",
      "Rows:  (565, 570) --- ['2223', '2223 market st.', 'san francisco', '415/431-0692', 'american', 453] \t ['bix', '56 gold st.', 'san francisco', '415/433-6300', 'american', 458]\n",
      "--------------------------------------------------------------------------\n",
      "Rows:  (565, 577) --- ['2223', '2223 market st.', 'san francisco', '415/431-0692', 'american', 453] \t ['carta', '1772 market st.', 'san francisco', '415/863-3516', 'american', 465]\n",
      "--------------------------------------------------------------------------\n",
      "Rows:  (565, 611) --- ['2223', '2223 market st.', 'san francisco', '415/431-0692', 'american', 453] \t ['one market', '1 market st.', 'san francisco', '415/777-5577', 'american', 500]\n",
      "--------------------------------------------------------------------------\n",
      "Rows:  (565, 582) --- ['2223', '2223 market st.', 'san francisco', '415/431-0692', 'american', 453] \t ['fog city diner', '1300 battery st.', 'san francisco', '415/982-2000', 'american', 470]\n",
      "--------------------------------------------------------------------------\n",
      "Rows:  (566, 614) --- ['acquarello', '1722 sacramento st.', 'san francisco', '415/567-5432', 'italian', 454] \t [\"palio d'asti\", '640 sacramento st.', 'san francisco', '415/395-9800', 'italian', 503]\n",
      "--------------------------------------------------------------------------\n",
      "Rows:  (568, 605) --- ['betelnut', '2030 union st.', 'san francisco', '415/929-8855', 'asian', 456] \t ['manora', '3226 mission st.', 'san francisco', '415/861-6224', 'asian', 494]\n",
      "--------------------------------------------------------------------------\n",
      "Rows:  (570, 611) --- ['bix', '56 gold st.', 'san francisco', '415/433-6300', 'american', 458] \t ['one market', '1 market st.', 'san francisco', '415/777-5577', 'american', 500]\n",
      "--------------------------------------------------------------------------\n",
      "Rows:  (570, 582) --- ['bix', '56 gold st.', 'san francisco', '415/433-6300', 'american', 458] \t ['fog city diner', '1300 battery st.', 'san francisco', '415/982-2000', 'american', 470]\n",
      "--------------------------------------------------------------------------\n",
      "Rows:  (573, 612) --- ['cafe adriano', '3347 fillmore st.', 'san francisco', '415/474-4180', 'italian', 461] \t ['oritalia', '1915 fillmore st.', 'san francisco', '415/346-1333', 'italian', 501]\n",
      "--------------------------------------------------------------------------\n",
      "Rows:  (577, 611) --- ['carta', '1772 market st.', 'san francisco', '415/863-3516', 'american', 465] \t ['one market', '1 market st.', 'san francisco', '415/777-5577', 'american', 500]\n",
      "--------------------------------------------------------------------------\n",
      "Rows:  (582, 611) --- ['fog city diner', '1300 battery st.', 'san francisco', '415/982-2000', 'american', 470] \t ['one market', '1 market st.', 'san francisco', '415/777-5577', 'american', 500]\n",
      "--------------------------------------------------------------------------\n",
      "Rows:  (592, 633) --- ['hong kong flower lounge', '5322 geary blvd.', 'san francisco', '415/668-8998', 'asian', 480] \t ['ton kiang', '3148 geary blvd.', 'san francisco', '415/752-4440', 'asian', 522]\n",
      "--------------------------------------------------------------------------\n",
      "Rows:  (597, 631) --- [\"jack's\", '615 sacramento st.', 'san francisco', '415/986-9854', 'old san francisco', 485] \t ['the heights', '3235 sacramento st.', 'san francisco', '415/474-8890', 'french', 520]\n",
      "--------------------------------------------------------------------------\n",
      "Rows:  (597, 619) --- [\"jack's\", '615 sacramento st.', 'san francisco', '415/986-9854', 'old san francisco', 485] \t ['rubicon', '558 sacramento st.', 'san francisco', '415/434-4100', 'american', 508]\n",
      "--------------------------------------------------------------------------\n",
      "Rows:  (617, 846) --- [\"perry's\", '1944 union st.', 'san francisco', '415/922-9022', 'american', 506] \t ['la taqueria', '2889 mission st.', 'san francisco', '415-285-7117', 'mexican', 736]\n",
      "--------------------------------------------------------------------------\n",
      "Rows:  (617, 836) --- [\"perry's\", '1944 union st.', 'san francisco', '415/922-9022', 'american', 506] \t [\"doidge's\", '2217 union st.', 'san francisco', '415-921-2149', 'american', 726]\n",
      "--------------------------------------------------------------------------\n",
      "Rows:  (619, 631) --- ['rubicon', '558 sacramento st.', 'san francisco', '415/434-4100', 'american', 508] \t ['the heights', '3235 sacramento st.', 'san francisco', '415/474-8890', 'french', 520]\n",
      "--------------------------------------------------------------------------\n",
      "Rows:  (625, 626) --- ['stars', '150 redwood alley', 'san francisco', '415/861-7827', 'american', 514] \t ['stars cafe', '500 van ness ave.', 'san francisco', '415/861-4344', 'american', 515]\n",
      "--------------------------------------------------------------------------\n",
      "Rows:  (647, 656) --- ['belvedere  the', '9882 little santa monica blvd.', 'beverly hills', '310-788-2306', 'pacific new wave', 537] \t ['cafe blanc', '9777 little santa monica blvd.', 'beverly hills', '310-888-0108', 'pacific new wave', 546]\n",
      "--------------------------------------------------------------------------\n",
      "Rows:  (730, 760) --- ['kiev', '117 second ave.', 'new york city', '212-674-4040', 'ukrainian', 620] \t ['veselka', '144 second ave.', 'new york city', '212-228-9682', 'ukrainian', 650]\n",
      "--------------------------------------------------------------------------\n",
      "Rows:  (737, 753) --- ['menchanko-tei', '39 w. 55th st.', 'new york city', '212-247-1585', 'japanese', 627] \t ['sushisay', '38 e. 51st st.', 'new york city', '212-755-1780', 'japanese', 643]\n",
      "--------------------------------------------------------------------------\n",
      "Rows:  (744, 745) --- ['palm', '837 second ave.', 'new york city', '212-687-2953', 'steakhouses', 634] \t ['palm too', '840 second ave.', 'new york city', '212-697-5198', 'steakhouses', 635]\n",
      "--------------------------------------------------------------------------\n",
      "Rows:  (800, 813) --- ['eats', '600 ponce de leon ave.', 'atlanta', '404-888-9149', 'italian', 690] \t ['majestic', '1031 ponce de leon ave.', 'atlanta', '404-875-0276', 'diners', 703]\n",
      "--------------------------------------------------------------------------\n",
      "Rows:  (834, 844) --- ['campo santo', '240 columbus ave.', 'san francisco', '415-433-9623', 'mexican', 724] \t ['la cumbre', '515 valencia st.', 'san francisco', '415-863-8205', 'mexican', 734]\n",
      "--------------------------------------------------------------------------\n"
     ]
    }
   ],
   "source": [
    "# Print the similar documents\n",
    "for pair in duplicates:\n",
    "    print(\"Rows: \", pair,\"---\",list(old_df.iloc[pair[0]]), '\\t', list(old_df.iloc[pair[1]]))\n",
    "    print('--------------------------------------------------------------------------')"
   ]
  },
  {
   "cell_type": "markdown",
   "id": "b46c5d09",
   "metadata": {},
   "source": [
    "***"
   ]
  },
  {
   "cell_type": "markdown",
   "id": "a3a9fb63",
   "metadata": {},
   "source": [
    "### Evaluation"
   ]
  },
  {
   "cell_type": "markdown",
   "id": "ef81d1c6",
   "metadata": {},
   "source": [
    "This code calculates the accuracy of the duplicate detection algorithm used in the project. It first initializes three variables: correct, incorrect, and total, which are set to 0.\n",
    "\n",
    "Then, it iterates over each pair of duplicates found in the dataset using a for loop. For each pair, it compares the class label (stored in the 'class' column) of the first and second rows. If the class labels are the same, it increments the correct variable. If they are different, it increments the incorrect variable. The total variable is incremented for each pair of duplicates, regardless of whether they are classified correctly or not.\n",
    "\n",
    "Finally, the code calculates the accuracy as correct divided by total, and prints it out as a formatted string. The accuracy is a measure of how many pairs of duplicates were correctly classified by the algorithm, compared to the total number of pairs."
   ]
  },
  {
   "cell_type": "code",
   "execution_count": 15,
   "id": "bb1f9d9b",
   "metadata": {},
   "outputs": [
    {
     "name": "stdout",
     "output_type": "stream",
     "text": [
      "Accuracy score is 0.22666666666666666\n"
     ]
    }
   ],
   "source": [
    "correct = 0\n",
    "incorrect = 0\n",
    "total = 0\n",
    "\n",
    "for first,second in duplicates:\n",
    "    if df.loc[first,'class'] == df.loc[second,'class']:\n",
    "        correct += 1\n",
    "    else:\n",
    "        incorrect += 1\n",
    "    total += 1\n",
    "\n",
    "accuracy = correct / total\n",
    "\n",
    "print(f\"Accuracy score is {accuracy}\")"
   ]
  },
  {
   "cell_type": "markdown",
   "id": "c35bfba5",
   "metadata": {},
   "source": [
    "***"
   ]
  },
  {
   "cell_type": "markdown",
   "id": "5a13a22b",
   "metadata": {},
   "source": [
    "This project uses a machine learning algorithm, specifically the MinHash algorithm, to identify similar documents. The MinHash algorithm is a probabilistic algorithm that is commonly used for similarity search in large datasets. Although it is not a traditional machine learning algorithm that involves training a model on labeled data, it is still considered part of the machine learning field because it uses mathematical techniques to perform a task that would be difficult or impossible to do manually.\n",
    "\n",
    "In addition, preprocessing techniques such as lowercasing, removing punctuation, and removing stopwords are often used in natural language processing (NLP) tasks, which are a common area of application in machine learning."
   ]
  },
  {
   "cell_type": "markdown",
   "id": "436aae1c",
   "metadata": {},
   "source": [
    "To add to that, Minhash is often used in machine learning and data mining applications as a preprocessing step for similarity search and clustering tasks. It can be used to efficiently compute similarity between large datasets without having to compare every pair of objects, which can be computationally expensive. This makes it a useful tool for tasks such as duplicate detection, recommendation systems, and content-based search."
   ]
  },
  {
   "cell_type": "markdown",
   "id": "694f82cb",
   "metadata": {},
   "source": [
    "Additionally, you could add other machine learning algorithms to this project. One possible approach would be to use the MinHash signatures as features for a supervised learning model, such as a binary classification model to classify documents as either duplicates or non-duplicates. You could use the labeled duplicates found using LSH as training data for this model. Alternatively, you could use unsupervised learning techniques to cluster similar documents based on their MinHash signatures."
   ]
  },
  {
   "cell_type": "markdown",
   "id": "8fe03041",
   "metadata": {},
   "source": [
    "***"
   ]
  },
  {
   "cell_type": "markdown",
   "id": "e2cc7273",
   "metadata": {},
   "source": [
    "Suggestions to potentially improve this project:\n",
    "\n",
    "* Use more advanced natural language processing techniques: The current preprocessing step is quite basic, and there are many more advanced techniques that can be used to further clean and normalize the text data. For example, stemming, lemmatization, and part-of-speech tagging could be used to extract more meaningful features from the text.\n",
    "\n",
    "* Use a more advanced similarity measure: The Jaccard similarity measure used in this project is a simple and effective measure for comparing sets of shingles, but there are many more advanced similarity measures that could be used, such as cosine similarity or the Soft-TFIDF measure.\n",
    "\n",
    "* Incorporate supervised learning: While Minhash and LSH are unsupervised techniques, supervised learning algorithms could be used to further improve the accuracy of the document similarity task. For example, a classifier could be trained to distinguish between similar and dissimilar documents based on features extracted from the text, and this classifier could be used to filter the candidate pairs identified by the Minhash and LSH algorithms.\n",
    "\n",
    "* Use larger datasets: The dataset used in this project is relatively small, so the results may not be representative of how the algorithms perform on larger datasets. Using larger datasets could help to evaluate the scalability and accuracy of the algorithms.\n",
    "\n",
    "* Tune hyperparameters: The current project uses default values for the hyperparameters of the Minhash and LSH algorithms. Tuning these hyperparameters could help to optimize the performance of the algorithms for the specific dataset and task. For example, the number of permutations used in the Minhash algorithm and the threshold used in the LSH algorithm could be tuned to maximize the accuracy of the document similarity task."
   ]
  },
  {
   "cell_type": "markdown",
   "id": "33170c6f",
   "metadata": {},
   "source": [
    "***"
   ]
  },
  {
   "cell_type": "markdown",
   "id": "572d69c1",
   "metadata": {},
   "source": [
    "Here are a few additional suggestions for detecting similar entries in a dataset using machine learning algorithms:\n",
    "\n",
    "Clustering: Clustering algorithms can be used to group similar entries together based on the features they have in common. One approach could be to use a clustering algorithm such as k-means or hierarchical clustering on a subset of the features in the dataset, and then manually inspect the resulting clusters to see if they contain any entries that appear to be duplicates.\n",
    "\n",
    "Neural Networks: A neural network can be trained to classify pairs of entries as either duplicates or not, based on the features of the entries. This approach would involve training a binary classifier using a neural network architecture such as a multi-layer perceptron or a convolutional neural network.\n",
    "\n",
    "Ensemble Learning: An ensemble learning approach could involve training multiple machine learning algorithms on different subsets of the features in the dataset, and then combining their results to make a final determination of whether two entries are duplicates or not. This approach can help to reduce the impact of noise in the data and increase the overall accuracy of the duplicate detection algorithm.\n",
    "\n",
    "Graph-based Algorithms: A graph-based approach could involve representing the dataset as a graph, where each entry is a node and edges between nodes represent some measure of similarity between them. Graph-based algorithms such as the label propagation algorithm or the PageRank algorithm can be used to identify groups of entries that are highly connected and likely to be duplicates.\n",
    "\n",
    "Siamese Networks: Siamese networks are neural networks that can learn to compare two inputs and output a similarity score based on how similar the inputs are. Siamese networks can be used to compare pairs of entries in the dataset and identify those that are likely to be duplicates. This approach involves training a neural network with pairs of entries, where each pair is labeled as either a duplicate or not. Once the network is trained, it can be used to compare new pairs of entries and predict whether they are duplicates or not.\n",
    "\n",
    "\n",
    "\n"
   ]
  },
  {
   "cell_type": "markdown",
   "id": "515c7c74",
   "metadata": {},
   "source": [
    "***"
   ]
  }
 ],
 "metadata": {
  "kernelspec": {
   "display_name": "Python 3 (ipykernel)",
   "language": "python",
   "name": "python3"
  },
  "language_info": {
   "codemirror_mode": {
    "name": "ipython",
    "version": 3
   },
   "file_extension": ".py",
   "mimetype": "text/x-python",
   "name": "python",
   "nbconvert_exporter": "python",
   "pygments_lexer": "ipython3",
   "version": "3.9.13"
  }
 },
 "nbformat": 4,
 "nbformat_minor": 5
}
