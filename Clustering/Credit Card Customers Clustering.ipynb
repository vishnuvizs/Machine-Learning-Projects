{
 "cells": [
  {
   "cell_type": "markdown",
   "id": "2bd0dc5b",
   "metadata": {},
   "source": [
    "# Credit Card Customers Clustering"
   ]
  },
  {
   "cell_type": "markdown",
   "id": "86cf998f",
   "metadata": {},
   "source": [
    "***"
   ]
  },
  {
   "cell_type": "markdown",
   "id": "add97af5",
   "metadata": {},
   "source": [
    "This case requires to develop a customer segmentation to define marketing strategy. The\n",
    "sample Dataset summarizes the usage behavior of about 9000 active credit card holders during the last 6 months. The file is at a customer level with 18 behavioral variables."
   ]
  },
  {
   "cell_type": "markdown",
   "id": "081450ab",
   "metadata": {},
   "source": [
    "## About the dataset"
   ]
  },
  {
   "cell_type": "markdown",
   "id": "8cfa1797",
   "metadata": {},
   "source": [
    "* CUSTID : Identification of Credit Card holder (Categorical)\n",
    "* BALANCE : Balance amount left in their account to make purchases (\n",
    "* BALANCEFREQUENCY : How frequently the Balance is updated, score between 0 and 1 (1 = frequently updated, 0 = not frequently updated)\n",
    "* PURCHASES : Amount of purchases made from account\n",
    "* ONEOFFPURCHASES : Maximum purchase amount done in one-go\n",
    "* INSTALLMENTSPURCHASES : Amount of purchase done in installment\n",
    "* CASHADVANCE : Cash in advance given by the user\n",
    "* PURCHASESFREQUENCY : How frequently the Purchases are being made, score between 0 and 1 (1 = frequently purchased, 0 = not frequently purchased)\n",
    "* ONEOFFPURCHASESFREQUENCY : How frequently Purchases are happening in one-go (1 = frequently purchased, 0 = not frequently purchased)\n",
    "* PURCHASESINSTALLMENTSFREQUENCY : How frequently purchases in installments are being done (1 = frequently done, 0 = not frequently done)\n",
    "* CASHADVANCEFREQUENCY : How frequently the cash in advance being paid\n",
    "* CASHADVANCETRX : Number of Transactions made with \"Cash in Advanced\"\n",
    "* PURCHASESTRX : Numbe of purchase transactions made\n",
    "* CREDITLIMIT : Limit of Credit Card for user\n",
    "* PAYMENTS : Amount of Payment done by user\n",
    "* MINIMUM_PAYMENTS : Minimum amount of payments made by user\n",
    "* PRCFULLPAYMENT : Percent of full payment paid by user\n",
    "* TENURE : Tenure of credit card service for user"
   ]
  },
  {
   "cell_type": "markdown",
   "id": "feb014d1",
   "metadata": {},
   "source": [
    "### Dataset Link"
   ]
  },
  {
   "cell_type": "markdown",
   "id": "6601a4d2",
   "metadata": {},
   "source": [
    "https://www.kaggle.com/datasets/arjunbhasin2013/ccdata"
   ]
  },
  {
   "cell_type": "markdown",
   "id": "ddd1c379",
   "metadata": {},
   "source": [
    "## Let's Begin"
   ]
  },
  {
   "cell_type": "markdown",
   "id": "015d5c68",
   "metadata": {},
   "source": [
    "### Import necessary Libraries"
   ]
  },
  {
   "cell_type": "code",
   "execution_count": 23,
   "id": "069ca26d",
   "metadata": {},
   "outputs": [],
   "source": [
    "import numpy as np\n",
    "import pandas as pd\n",
    "import matplotlib.pyplot as plt\n",
    "import seaborn as sns\n",
    "from sklearn.preprocessing import StandardScaler\n",
    "from sklearn.cluster import KMeans\n",
    "from sklearn.cluster import AgglomerativeClustering\n",
    "from sklearn.decomposition import PCA"
   ]
  },
  {
   "cell_type": "markdown",
   "id": "e4de2231",
   "metadata": {},
   "source": [
    "### Read the dataset"
   ]
  },
  {
   "cell_type": "code",
   "execution_count": 2,
   "id": "39b14e1d",
   "metadata": {},
   "outputs": [],
   "source": [
    "df = pd.read_csv('CC GENERAL.csv')"
   ]
  },
  {
   "cell_type": "code",
   "execution_count": 3,
   "id": "53319487",
   "metadata": {},
   "outputs": [
    {
     "data": {
      "text/html": [
       "<div>\n",
       "<style scoped>\n",
       "    .dataframe tbody tr th:only-of-type {\n",
       "        vertical-align: middle;\n",
       "    }\n",
       "\n",
       "    .dataframe tbody tr th {\n",
       "        vertical-align: top;\n",
       "    }\n",
       "\n",
       "    .dataframe thead th {\n",
       "        text-align: right;\n",
       "    }\n",
       "</style>\n",
       "<table border=\"1\" class=\"dataframe\">\n",
       "  <thead>\n",
       "    <tr style=\"text-align: right;\">\n",
       "      <th></th>\n",
       "      <th>CUST_ID</th>\n",
       "      <th>BALANCE</th>\n",
       "      <th>BALANCE_FREQUENCY</th>\n",
       "      <th>PURCHASES</th>\n",
       "      <th>ONEOFF_PURCHASES</th>\n",
       "      <th>INSTALLMENTS_PURCHASES</th>\n",
       "      <th>CASH_ADVANCE</th>\n",
       "      <th>PURCHASES_FREQUENCY</th>\n",
       "      <th>ONEOFF_PURCHASES_FREQUENCY</th>\n",
       "      <th>PURCHASES_INSTALLMENTS_FREQUENCY</th>\n",
       "      <th>CASH_ADVANCE_FREQUENCY</th>\n",
       "      <th>CASH_ADVANCE_TRX</th>\n",
       "      <th>PURCHASES_TRX</th>\n",
       "      <th>CREDIT_LIMIT</th>\n",
       "      <th>PAYMENTS</th>\n",
       "      <th>MINIMUM_PAYMENTS</th>\n",
       "      <th>PRC_FULL_PAYMENT</th>\n",
       "      <th>TENURE</th>\n",
       "    </tr>\n",
       "  </thead>\n",
       "  <tbody>\n",
       "    <tr>\n",
       "      <th>0</th>\n",
       "      <td>C10001</td>\n",
       "      <td>40.900749</td>\n",
       "      <td>0.818182</td>\n",
       "      <td>95.40</td>\n",
       "      <td>0.00</td>\n",
       "      <td>95.4</td>\n",
       "      <td>0.000000</td>\n",
       "      <td>0.166667</td>\n",
       "      <td>0.000000</td>\n",
       "      <td>0.083333</td>\n",
       "      <td>0.000000</td>\n",
       "      <td>0</td>\n",
       "      <td>2</td>\n",
       "      <td>1000.0</td>\n",
       "      <td>201.802084</td>\n",
       "      <td>139.509787</td>\n",
       "      <td>0.000000</td>\n",
       "      <td>12</td>\n",
       "    </tr>\n",
       "    <tr>\n",
       "      <th>1</th>\n",
       "      <td>C10002</td>\n",
       "      <td>3202.467416</td>\n",
       "      <td>0.909091</td>\n",
       "      <td>0.00</td>\n",
       "      <td>0.00</td>\n",
       "      <td>0.0</td>\n",
       "      <td>6442.945483</td>\n",
       "      <td>0.000000</td>\n",
       "      <td>0.000000</td>\n",
       "      <td>0.000000</td>\n",
       "      <td>0.250000</td>\n",
       "      <td>4</td>\n",
       "      <td>0</td>\n",
       "      <td>7000.0</td>\n",
       "      <td>4103.032597</td>\n",
       "      <td>1072.340217</td>\n",
       "      <td>0.222222</td>\n",
       "      <td>12</td>\n",
       "    </tr>\n",
       "    <tr>\n",
       "      <th>2</th>\n",
       "      <td>C10003</td>\n",
       "      <td>2495.148862</td>\n",
       "      <td>1.000000</td>\n",
       "      <td>773.17</td>\n",
       "      <td>773.17</td>\n",
       "      <td>0.0</td>\n",
       "      <td>0.000000</td>\n",
       "      <td>1.000000</td>\n",
       "      <td>1.000000</td>\n",
       "      <td>0.000000</td>\n",
       "      <td>0.000000</td>\n",
       "      <td>0</td>\n",
       "      <td>12</td>\n",
       "      <td>7500.0</td>\n",
       "      <td>622.066742</td>\n",
       "      <td>627.284787</td>\n",
       "      <td>0.000000</td>\n",
       "      <td>12</td>\n",
       "    </tr>\n",
       "    <tr>\n",
       "      <th>3</th>\n",
       "      <td>C10004</td>\n",
       "      <td>1666.670542</td>\n",
       "      <td>0.636364</td>\n",
       "      <td>1499.00</td>\n",
       "      <td>1499.00</td>\n",
       "      <td>0.0</td>\n",
       "      <td>205.788017</td>\n",
       "      <td>0.083333</td>\n",
       "      <td>0.083333</td>\n",
       "      <td>0.000000</td>\n",
       "      <td>0.083333</td>\n",
       "      <td>1</td>\n",
       "      <td>1</td>\n",
       "      <td>7500.0</td>\n",
       "      <td>0.000000</td>\n",
       "      <td>NaN</td>\n",
       "      <td>0.000000</td>\n",
       "      <td>12</td>\n",
       "    </tr>\n",
       "    <tr>\n",
       "      <th>4</th>\n",
       "      <td>C10005</td>\n",
       "      <td>817.714335</td>\n",
       "      <td>1.000000</td>\n",
       "      <td>16.00</td>\n",
       "      <td>16.00</td>\n",
       "      <td>0.0</td>\n",
       "      <td>0.000000</td>\n",
       "      <td>0.083333</td>\n",
       "      <td>0.083333</td>\n",
       "      <td>0.000000</td>\n",
       "      <td>0.000000</td>\n",
       "      <td>0</td>\n",
       "      <td>1</td>\n",
       "      <td>1200.0</td>\n",
       "      <td>678.334763</td>\n",
       "      <td>244.791237</td>\n",
       "      <td>0.000000</td>\n",
       "      <td>12</td>\n",
       "    </tr>\n",
       "  </tbody>\n",
       "</table>\n",
       "</div>"
      ],
      "text/plain": [
       "  CUST_ID      BALANCE  BALANCE_FREQUENCY  PURCHASES  ONEOFF_PURCHASES  \\\n",
       "0  C10001    40.900749           0.818182      95.40              0.00   \n",
       "1  C10002  3202.467416           0.909091       0.00              0.00   \n",
       "2  C10003  2495.148862           1.000000     773.17            773.17   \n",
       "3  C10004  1666.670542           0.636364    1499.00           1499.00   \n",
       "4  C10005   817.714335           1.000000      16.00             16.00   \n",
       "\n",
       "   INSTALLMENTS_PURCHASES  CASH_ADVANCE  PURCHASES_FREQUENCY  \\\n",
       "0                    95.4      0.000000             0.166667   \n",
       "1                     0.0   6442.945483             0.000000   \n",
       "2                     0.0      0.000000             1.000000   \n",
       "3                     0.0    205.788017             0.083333   \n",
       "4                     0.0      0.000000             0.083333   \n",
       "\n",
       "   ONEOFF_PURCHASES_FREQUENCY  PURCHASES_INSTALLMENTS_FREQUENCY  \\\n",
       "0                    0.000000                          0.083333   \n",
       "1                    0.000000                          0.000000   \n",
       "2                    1.000000                          0.000000   \n",
       "3                    0.083333                          0.000000   \n",
       "4                    0.083333                          0.000000   \n",
       "\n",
       "   CASH_ADVANCE_FREQUENCY  CASH_ADVANCE_TRX  PURCHASES_TRX  CREDIT_LIMIT  \\\n",
       "0                0.000000                 0              2        1000.0   \n",
       "1                0.250000                 4              0        7000.0   \n",
       "2                0.000000                 0             12        7500.0   \n",
       "3                0.083333                 1              1        7500.0   \n",
       "4                0.000000                 0              1        1200.0   \n",
       "\n",
       "      PAYMENTS  MINIMUM_PAYMENTS  PRC_FULL_PAYMENT  TENURE  \n",
       "0   201.802084        139.509787          0.000000      12  \n",
       "1  4103.032597       1072.340217          0.222222      12  \n",
       "2   622.066742        627.284787          0.000000      12  \n",
       "3     0.000000               NaN          0.000000      12  \n",
       "4   678.334763        244.791237          0.000000      12  "
      ]
     },
     "execution_count": 3,
     "metadata": {},
     "output_type": "execute_result"
    }
   ],
   "source": [
    "df.head()"
   ]
  },
  {
   "cell_type": "markdown",
   "id": "7382ab3e",
   "metadata": {},
   "source": [
    "### Check info"
   ]
  },
  {
   "cell_type": "code",
   "execution_count": 4,
   "id": "01a4d4c8",
   "metadata": {},
   "outputs": [
    {
     "name": "stdout",
     "output_type": "stream",
     "text": [
      "<class 'pandas.core.frame.DataFrame'>\n",
      "RangeIndex: 8950 entries, 0 to 8949\n",
      "Data columns (total 18 columns):\n",
      " #   Column                            Non-Null Count  Dtype  \n",
      "---  ------                            --------------  -----  \n",
      " 0   CUST_ID                           8950 non-null   object \n",
      " 1   BALANCE                           8950 non-null   float64\n",
      " 2   BALANCE_FREQUENCY                 8950 non-null   float64\n",
      " 3   PURCHASES                         8950 non-null   float64\n",
      " 4   ONEOFF_PURCHASES                  8950 non-null   float64\n",
      " 5   INSTALLMENTS_PURCHASES            8950 non-null   float64\n",
      " 6   CASH_ADVANCE                      8950 non-null   float64\n",
      " 7   PURCHASES_FREQUENCY               8950 non-null   float64\n",
      " 8   ONEOFF_PURCHASES_FREQUENCY        8950 non-null   float64\n",
      " 9   PURCHASES_INSTALLMENTS_FREQUENCY  8950 non-null   float64\n",
      " 10  CASH_ADVANCE_FREQUENCY            8950 non-null   float64\n",
      " 11  CASH_ADVANCE_TRX                  8950 non-null   int64  \n",
      " 12  PURCHASES_TRX                     8950 non-null   int64  \n",
      " 13  CREDIT_LIMIT                      8949 non-null   float64\n",
      " 14  PAYMENTS                          8950 non-null   float64\n",
      " 15  MINIMUM_PAYMENTS                  8637 non-null   float64\n",
      " 16  PRC_FULL_PAYMENT                  8950 non-null   float64\n",
      " 17  TENURE                            8950 non-null   int64  \n",
      "dtypes: float64(14), int64(3), object(1)\n",
      "memory usage: 1.2+ MB\n"
     ]
    }
   ],
   "source": [
    "df.info()"
   ]
  },
  {
   "cell_type": "markdown",
   "id": "e91fcdcf",
   "metadata": {},
   "source": [
    "### Check the exact null values in each feature"
   ]
  },
  {
   "cell_type": "code",
   "execution_count": 6,
   "id": "843827ff",
   "metadata": {},
   "outputs": [
    {
     "data": {
      "text/plain": [
       "CUST_ID                               0\n",
       "BALANCE                               0\n",
       "BALANCE_FREQUENCY                     0\n",
       "PURCHASES                             0\n",
       "ONEOFF_PURCHASES                      0\n",
       "INSTALLMENTS_PURCHASES                0\n",
       "CASH_ADVANCE                          0\n",
       "PURCHASES_FREQUENCY                   0\n",
       "ONEOFF_PURCHASES_FREQUENCY            0\n",
       "PURCHASES_INSTALLMENTS_FREQUENCY      0\n",
       "CASH_ADVANCE_FREQUENCY                0\n",
       "CASH_ADVANCE_TRX                      0\n",
       "PURCHASES_TRX                         0\n",
       "CREDIT_LIMIT                          1\n",
       "PAYMENTS                              0\n",
       "MINIMUM_PAYMENTS                    313\n",
       "PRC_FULL_PAYMENT                      0\n",
       "TENURE                                0\n",
       "dtype: int64"
      ]
     },
     "execution_count": 6,
     "metadata": {},
     "output_type": "execute_result"
    }
   ],
   "source": [
    "df.isna().sum()"
   ]
  },
  {
   "cell_type": "markdown",
   "id": "5626f315",
   "metadata": {},
   "source": [
    "### Drop all rows with null values"
   ]
  },
  {
   "cell_type": "code",
   "execution_count": 7,
   "id": "e4d87dd6",
   "metadata": {},
   "outputs": [],
   "source": [
    "df.dropna(inplace = True)"
   ]
  },
  {
   "cell_type": "markdown",
   "id": "5f7185b7",
   "metadata": {},
   "source": [
    "### Drop unwanted columns"
   ]
  },
  {
   "cell_type": "code",
   "execution_count": 8,
   "id": "b2359c01",
   "metadata": {},
   "outputs": [],
   "source": [
    "df.drop(columns = ['CUST_ID'], inplace= True)"
   ]
  },
  {
   "cell_type": "markdown",
   "id": "779e6e9d",
   "metadata": {},
   "source": [
    "### View basic statistical Information about the dataset"
   ]
  },
  {
   "cell_type": "code",
   "execution_count": 9,
   "id": "4352f5cb",
   "metadata": {},
   "outputs": [
    {
     "data": {
      "text/html": [
       "<div>\n",
       "<style scoped>\n",
       "    .dataframe tbody tr th:only-of-type {\n",
       "        vertical-align: middle;\n",
       "    }\n",
       "\n",
       "    .dataframe tbody tr th {\n",
       "        vertical-align: top;\n",
       "    }\n",
       "\n",
       "    .dataframe thead th {\n",
       "        text-align: right;\n",
       "    }\n",
       "</style>\n",
       "<table border=\"1\" class=\"dataframe\">\n",
       "  <thead>\n",
       "    <tr style=\"text-align: right;\">\n",
       "      <th></th>\n",
       "      <th>BALANCE</th>\n",
       "      <th>BALANCE_FREQUENCY</th>\n",
       "      <th>PURCHASES</th>\n",
       "      <th>ONEOFF_PURCHASES</th>\n",
       "      <th>INSTALLMENTS_PURCHASES</th>\n",
       "      <th>CASH_ADVANCE</th>\n",
       "      <th>PURCHASES_FREQUENCY</th>\n",
       "      <th>ONEOFF_PURCHASES_FREQUENCY</th>\n",
       "      <th>PURCHASES_INSTALLMENTS_FREQUENCY</th>\n",
       "      <th>CASH_ADVANCE_FREQUENCY</th>\n",
       "      <th>CASH_ADVANCE_TRX</th>\n",
       "      <th>PURCHASES_TRX</th>\n",
       "      <th>CREDIT_LIMIT</th>\n",
       "      <th>PAYMENTS</th>\n",
       "      <th>MINIMUM_PAYMENTS</th>\n",
       "      <th>PRC_FULL_PAYMENT</th>\n",
       "      <th>TENURE</th>\n",
       "    </tr>\n",
       "  </thead>\n",
       "  <tbody>\n",
       "    <tr>\n",
       "      <th>count</th>\n",
       "      <td>8636.000000</td>\n",
       "      <td>8636.000000</td>\n",
       "      <td>8636.000000</td>\n",
       "      <td>8636.000000</td>\n",
       "      <td>8636.000000</td>\n",
       "      <td>8636.000000</td>\n",
       "      <td>8636.000000</td>\n",
       "      <td>8636.000000</td>\n",
       "      <td>8636.000000</td>\n",
       "      <td>8636.000000</td>\n",
       "      <td>8636.000000</td>\n",
       "      <td>8636.000000</td>\n",
       "      <td>8636.000000</td>\n",
       "      <td>8636.000000</td>\n",
       "      <td>8636.000000</td>\n",
       "      <td>8636.000000</td>\n",
       "      <td>8636.000000</td>\n",
       "    </tr>\n",
       "    <tr>\n",
       "      <th>mean</th>\n",
       "      <td>1601.224893</td>\n",
       "      <td>0.895035</td>\n",
       "      <td>1025.433874</td>\n",
       "      <td>604.901438</td>\n",
       "      <td>420.843533</td>\n",
       "      <td>994.175523</td>\n",
       "      <td>0.496000</td>\n",
       "      <td>0.205909</td>\n",
       "      <td>0.368820</td>\n",
       "      <td>0.137604</td>\n",
       "      <td>3.313918</td>\n",
       "      <td>15.033233</td>\n",
       "      <td>4522.091030</td>\n",
       "      <td>1784.478099</td>\n",
       "      <td>864.304943</td>\n",
       "      <td>0.159304</td>\n",
       "      <td>11.534391</td>\n",
       "    </tr>\n",
       "    <tr>\n",
       "      <th>std</th>\n",
       "      <td>2095.571300</td>\n",
       "      <td>0.207697</td>\n",
       "      <td>2167.107984</td>\n",
       "      <td>1684.307803</td>\n",
       "      <td>917.245182</td>\n",
       "      <td>2121.458303</td>\n",
       "      <td>0.401273</td>\n",
       "      <td>0.300054</td>\n",
       "      <td>0.398093</td>\n",
       "      <td>0.201791</td>\n",
       "      <td>6.912506</td>\n",
       "      <td>25.180468</td>\n",
       "      <td>3659.240379</td>\n",
       "      <td>2909.810090</td>\n",
       "      <td>2372.566350</td>\n",
       "      <td>0.296271</td>\n",
       "      <td>1.310984</td>\n",
       "    </tr>\n",
       "    <tr>\n",
       "      <th>min</th>\n",
       "      <td>0.000000</td>\n",
       "      <td>0.000000</td>\n",
       "      <td>0.000000</td>\n",
       "      <td>0.000000</td>\n",
       "      <td>0.000000</td>\n",
       "      <td>0.000000</td>\n",
       "      <td>0.000000</td>\n",
       "      <td>0.000000</td>\n",
       "      <td>0.000000</td>\n",
       "      <td>0.000000</td>\n",
       "      <td>0.000000</td>\n",
       "      <td>0.000000</td>\n",
       "      <td>50.000000</td>\n",
       "      <td>0.049513</td>\n",
       "      <td>0.019163</td>\n",
       "      <td>0.000000</td>\n",
       "      <td>6.000000</td>\n",
       "    </tr>\n",
       "    <tr>\n",
       "      <th>25%</th>\n",
       "      <td>148.095189</td>\n",
       "      <td>0.909091</td>\n",
       "      <td>43.367500</td>\n",
       "      <td>0.000000</td>\n",
       "      <td>0.000000</td>\n",
       "      <td>0.000000</td>\n",
       "      <td>0.083333</td>\n",
       "      <td>0.000000</td>\n",
       "      <td>0.000000</td>\n",
       "      <td>0.000000</td>\n",
       "      <td>0.000000</td>\n",
       "      <td>1.000000</td>\n",
       "      <td>1600.000000</td>\n",
       "      <td>418.559237</td>\n",
       "      <td>169.163545</td>\n",
       "      <td>0.000000</td>\n",
       "      <td>12.000000</td>\n",
       "    </tr>\n",
       "    <tr>\n",
       "      <th>50%</th>\n",
       "      <td>916.855459</td>\n",
       "      <td>1.000000</td>\n",
       "      <td>375.405000</td>\n",
       "      <td>44.995000</td>\n",
       "      <td>94.785000</td>\n",
       "      <td>0.000000</td>\n",
       "      <td>0.500000</td>\n",
       "      <td>0.083333</td>\n",
       "      <td>0.166667</td>\n",
       "      <td>0.000000</td>\n",
       "      <td>0.000000</td>\n",
       "      <td>7.000000</td>\n",
       "      <td>3000.000000</td>\n",
       "      <td>896.675701</td>\n",
       "      <td>312.452292</td>\n",
       "      <td>0.000000</td>\n",
       "      <td>12.000000</td>\n",
       "    </tr>\n",
       "    <tr>\n",
       "      <th>75%</th>\n",
       "      <td>2105.195853</td>\n",
       "      <td>1.000000</td>\n",
       "      <td>1145.980000</td>\n",
       "      <td>599.100000</td>\n",
       "      <td>484.147500</td>\n",
       "      <td>1132.385490</td>\n",
       "      <td>0.916667</td>\n",
       "      <td>0.333333</td>\n",
       "      <td>0.750000</td>\n",
       "      <td>0.250000</td>\n",
       "      <td>4.000000</td>\n",
       "      <td>18.000000</td>\n",
       "      <td>6500.000000</td>\n",
       "      <td>1951.142090</td>\n",
       "      <td>825.496463</td>\n",
       "      <td>0.166667</td>\n",
       "      <td>12.000000</td>\n",
       "    </tr>\n",
       "    <tr>\n",
       "      <th>max</th>\n",
       "      <td>19043.138560</td>\n",
       "      <td>1.000000</td>\n",
       "      <td>49039.570000</td>\n",
       "      <td>40761.250000</td>\n",
       "      <td>22500.000000</td>\n",
       "      <td>47137.211760</td>\n",
       "      <td>1.000000</td>\n",
       "      <td>1.000000</td>\n",
       "      <td>1.000000</td>\n",
       "      <td>1.500000</td>\n",
       "      <td>123.000000</td>\n",
       "      <td>358.000000</td>\n",
       "      <td>30000.000000</td>\n",
       "      <td>50721.483360</td>\n",
       "      <td>76406.207520</td>\n",
       "      <td>1.000000</td>\n",
       "      <td>12.000000</td>\n",
       "    </tr>\n",
       "  </tbody>\n",
       "</table>\n",
       "</div>"
      ],
      "text/plain": [
       "            BALANCE  BALANCE_FREQUENCY     PURCHASES  ONEOFF_PURCHASES  \\\n",
       "count   8636.000000        8636.000000   8636.000000       8636.000000   \n",
       "mean    1601.224893           0.895035   1025.433874        604.901438   \n",
       "std     2095.571300           0.207697   2167.107984       1684.307803   \n",
       "min        0.000000           0.000000      0.000000          0.000000   \n",
       "25%      148.095189           0.909091     43.367500          0.000000   \n",
       "50%      916.855459           1.000000    375.405000         44.995000   \n",
       "75%     2105.195853           1.000000   1145.980000        599.100000   \n",
       "max    19043.138560           1.000000  49039.570000      40761.250000   \n",
       "\n",
       "       INSTALLMENTS_PURCHASES  CASH_ADVANCE  PURCHASES_FREQUENCY  \\\n",
       "count             8636.000000   8636.000000          8636.000000   \n",
       "mean               420.843533    994.175523             0.496000   \n",
       "std                917.245182   2121.458303             0.401273   \n",
       "min                  0.000000      0.000000             0.000000   \n",
       "25%                  0.000000      0.000000             0.083333   \n",
       "50%                 94.785000      0.000000             0.500000   \n",
       "75%                484.147500   1132.385490             0.916667   \n",
       "max              22500.000000  47137.211760             1.000000   \n",
       "\n",
       "       ONEOFF_PURCHASES_FREQUENCY  PURCHASES_INSTALLMENTS_FREQUENCY  \\\n",
       "count                 8636.000000                       8636.000000   \n",
       "mean                     0.205909                          0.368820   \n",
       "std                      0.300054                          0.398093   \n",
       "min                      0.000000                          0.000000   \n",
       "25%                      0.000000                          0.000000   \n",
       "50%                      0.083333                          0.166667   \n",
       "75%                      0.333333                          0.750000   \n",
       "max                      1.000000                          1.000000   \n",
       "\n",
       "       CASH_ADVANCE_FREQUENCY  CASH_ADVANCE_TRX  PURCHASES_TRX  CREDIT_LIMIT  \\\n",
       "count             8636.000000       8636.000000    8636.000000   8636.000000   \n",
       "mean                 0.137604          3.313918      15.033233   4522.091030   \n",
       "std                  0.201791          6.912506      25.180468   3659.240379   \n",
       "min                  0.000000          0.000000       0.000000     50.000000   \n",
       "25%                  0.000000          0.000000       1.000000   1600.000000   \n",
       "50%                  0.000000          0.000000       7.000000   3000.000000   \n",
       "75%                  0.250000          4.000000      18.000000   6500.000000   \n",
       "max                  1.500000        123.000000     358.000000  30000.000000   \n",
       "\n",
       "           PAYMENTS  MINIMUM_PAYMENTS  PRC_FULL_PAYMENT       TENURE  \n",
       "count   8636.000000       8636.000000       8636.000000  8636.000000  \n",
       "mean    1784.478099        864.304943          0.159304    11.534391  \n",
       "std     2909.810090       2372.566350          0.296271     1.310984  \n",
       "min        0.049513          0.019163          0.000000     6.000000  \n",
       "25%      418.559237        169.163545          0.000000    12.000000  \n",
       "50%      896.675701        312.452292          0.000000    12.000000  \n",
       "75%     1951.142090        825.496463          0.166667    12.000000  \n",
       "max    50721.483360      76406.207520          1.000000    12.000000  "
      ]
     },
     "execution_count": 9,
     "metadata": {},
     "output_type": "execute_result"
    }
   ],
   "source": [
    "df.describe()"
   ]
  },
  {
   "cell_type": "markdown",
   "id": "10084f76",
   "metadata": {},
   "source": [
    "### Standardise the data"
   ]
  },
  {
   "cell_type": "code",
   "execution_count": 10,
   "id": "5fae8740",
   "metadata": {},
   "outputs": [],
   "source": [
    "scaler = StandardScaler()"
   ]
  },
  {
   "cell_type": "code",
   "execution_count": 11,
   "id": "96da9e86",
   "metadata": {},
   "outputs": [],
   "source": [
    "df_scaled = scaler.fit_transform(df)"
   ]
  },
  {
   "cell_type": "code",
   "execution_count": 12,
   "id": "f7e4a433",
   "metadata": {},
   "outputs": [],
   "source": [
    "df_scaled = pd.DataFrame(df_scaled, columns = df.columns)"
   ]
  },
  {
   "cell_type": "code",
   "execution_count": 13,
   "id": "fa62c6ca",
   "metadata": {},
   "outputs": [
    {
     "data": {
      "text/html": [
       "<div>\n",
       "<style scoped>\n",
       "    .dataframe tbody tr th:only-of-type {\n",
       "        vertical-align: middle;\n",
       "    }\n",
       "\n",
       "    .dataframe tbody tr th {\n",
       "        vertical-align: top;\n",
       "    }\n",
       "\n",
       "    .dataframe thead th {\n",
       "        text-align: right;\n",
       "    }\n",
       "</style>\n",
       "<table border=\"1\" class=\"dataframe\">\n",
       "  <thead>\n",
       "    <tr style=\"text-align: right;\">\n",
       "      <th></th>\n",
       "      <th>BALANCE</th>\n",
       "      <th>BALANCE_FREQUENCY</th>\n",
       "      <th>PURCHASES</th>\n",
       "      <th>ONEOFF_PURCHASES</th>\n",
       "      <th>INSTALLMENTS_PURCHASES</th>\n",
       "      <th>CASH_ADVANCE</th>\n",
       "      <th>PURCHASES_FREQUENCY</th>\n",
       "      <th>ONEOFF_PURCHASES_FREQUENCY</th>\n",
       "      <th>PURCHASES_INSTALLMENTS_FREQUENCY</th>\n",
       "      <th>CASH_ADVANCE_FREQUENCY</th>\n",
       "      <th>CASH_ADVANCE_TRX</th>\n",
       "      <th>PURCHASES_TRX</th>\n",
       "      <th>CREDIT_LIMIT</th>\n",
       "      <th>PAYMENTS</th>\n",
       "      <th>MINIMUM_PAYMENTS</th>\n",
       "      <th>PRC_FULL_PAYMENT</th>\n",
       "      <th>TENURE</th>\n",
       "    </tr>\n",
       "  </thead>\n",
       "  <tbody>\n",
       "    <tr>\n",
       "      <th>0</th>\n",
       "      <td>-0.744625</td>\n",
       "      <td>-0.370047</td>\n",
       "      <td>-0.429184</td>\n",
       "      <td>-0.359160</td>\n",
       "      <td>-0.354826</td>\n",
       "      <td>-0.468655</td>\n",
       "      <td>-0.820769</td>\n",
       "      <td>-0.686280</td>\n",
       "      <td>-0.717179</td>\n",
       "      <td>-0.681953</td>\n",
       "      <td>-0.479437</td>\n",
       "      <td>-0.517623</td>\n",
       "      <td>-0.962575</td>\n",
       "      <td>-0.543942</td>\n",
       "      <td>-0.305508</td>\n",
       "      <td>-0.537727</td>\n",
       "      <td>0.355181</td>\n",
       "    </tr>\n",
       "    <tr>\n",
       "      <th>1</th>\n",
       "      <td>0.764152</td>\n",
       "      <td>0.067679</td>\n",
       "      <td>-0.473208</td>\n",
       "      <td>-0.359160</td>\n",
       "      <td>-0.458839</td>\n",
       "      <td>2.568556</td>\n",
       "      <td>-1.236139</td>\n",
       "      <td>-0.686280</td>\n",
       "      <td>-0.926522</td>\n",
       "      <td>0.557022</td>\n",
       "      <td>0.099258</td>\n",
       "      <td>-0.597054</td>\n",
       "      <td>0.677204</td>\n",
       "      <td>0.796852</td>\n",
       "      <td>0.087689</td>\n",
       "      <td>0.212380</td>\n",
       "      <td>0.355181</td>\n",
       "    </tr>\n",
       "    <tr>\n",
       "      <th>2</th>\n",
       "      <td>0.426602</td>\n",
       "      <td>0.505405</td>\n",
       "      <td>-0.116413</td>\n",
       "      <td>0.099909</td>\n",
       "      <td>-0.458839</td>\n",
       "      <td>-0.468655</td>\n",
       "      <td>1.256077</td>\n",
       "      <td>2.646651</td>\n",
       "      <td>-0.926522</td>\n",
       "      <td>-0.681953</td>\n",
       "      <td>-0.479437</td>\n",
       "      <td>-0.120467</td>\n",
       "      <td>0.813852</td>\n",
       "      <td>-0.399503</td>\n",
       "      <td>-0.099906</td>\n",
       "      <td>-0.537727</td>\n",
       "      <td>0.355181</td>\n",
       "    </tr>\n",
       "    <tr>\n",
       "      <th>3</th>\n",
       "      <td>-0.373910</td>\n",
       "      <td>0.505405</td>\n",
       "      <td>-0.465825</td>\n",
       "      <td>-0.349660</td>\n",
       "      <td>-0.458839</td>\n",
       "      <td>-0.468655</td>\n",
       "      <td>-1.028455</td>\n",
       "      <td>-0.408536</td>\n",
       "      <td>-0.926522</td>\n",
       "      <td>-0.681953</td>\n",
       "      <td>-0.479437</td>\n",
       "      <td>-0.557339</td>\n",
       "      <td>-0.907916</td>\n",
       "      <td>-0.380165</td>\n",
       "      <td>-0.261131</td>\n",
       "      <td>-0.537727</td>\n",
       "      <td>0.355181</td>\n",
       "    </tr>\n",
       "    <tr>\n",
       "      <th>4</th>\n",
       "      <td>0.099551</td>\n",
       "      <td>0.505405</td>\n",
       "      <td>0.142062</td>\n",
       "      <td>-0.359160</td>\n",
       "      <td>0.994815</td>\n",
       "      <td>-0.468655</td>\n",
       "      <td>0.425339</td>\n",
       "      <td>-0.686280</td>\n",
       "      <td>0.538882</td>\n",
       "      <td>-0.681953</td>\n",
       "      <td>-0.479437</td>\n",
       "      <td>-0.279329</td>\n",
       "      <td>-0.743938</td>\n",
       "      <td>-0.132119</td>\n",
       "      <td>0.650363</td>\n",
       "      <td>-0.537727</td>\n",
       "      <td>0.355181</td>\n",
       "    </tr>\n",
       "  </tbody>\n",
       "</table>\n",
       "</div>"
      ],
      "text/plain": [
       "    BALANCE  BALANCE_FREQUENCY  PURCHASES  ONEOFF_PURCHASES  \\\n",
       "0 -0.744625          -0.370047  -0.429184         -0.359160   \n",
       "1  0.764152           0.067679  -0.473208         -0.359160   \n",
       "2  0.426602           0.505405  -0.116413          0.099909   \n",
       "3 -0.373910           0.505405  -0.465825         -0.349660   \n",
       "4  0.099551           0.505405   0.142062         -0.359160   \n",
       "\n",
       "   INSTALLMENTS_PURCHASES  CASH_ADVANCE  PURCHASES_FREQUENCY  \\\n",
       "0               -0.354826     -0.468655            -0.820769   \n",
       "1               -0.458839      2.568556            -1.236139   \n",
       "2               -0.458839     -0.468655             1.256077   \n",
       "3               -0.458839     -0.468655            -1.028455   \n",
       "4                0.994815     -0.468655             0.425339   \n",
       "\n",
       "   ONEOFF_PURCHASES_FREQUENCY  PURCHASES_INSTALLMENTS_FREQUENCY  \\\n",
       "0                   -0.686280                         -0.717179   \n",
       "1                   -0.686280                         -0.926522   \n",
       "2                    2.646651                         -0.926522   \n",
       "3                   -0.408536                         -0.926522   \n",
       "4                   -0.686280                          0.538882   \n",
       "\n",
       "   CASH_ADVANCE_FREQUENCY  CASH_ADVANCE_TRX  PURCHASES_TRX  CREDIT_LIMIT  \\\n",
       "0               -0.681953         -0.479437      -0.517623     -0.962575   \n",
       "1                0.557022          0.099258      -0.597054      0.677204   \n",
       "2               -0.681953         -0.479437      -0.120467      0.813852   \n",
       "3               -0.681953         -0.479437      -0.557339     -0.907916   \n",
       "4               -0.681953         -0.479437      -0.279329     -0.743938   \n",
       "\n",
       "   PAYMENTS  MINIMUM_PAYMENTS  PRC_FULL_PAYMENT    TENURE  \n",
       "0 -0.543942         -0.305508         -0.537727  0.355181  \n",
       "1  0.796852          0.087689          0.212380  0.355181  \n",
       "2 -0.399503         -0.099906         -0.537727  0.355181  \n",
       "3 -0.380165         -0.261131         -0.537727  0.355181  \n",
       "4 -0.132119          0.650363         -0.537727  0.355181  "
      ]
     },
     "execution_count": 13,
     "metadata": {},
     "output_type": "execute_result"
    }
   ],
   "source": [
    "df_scaled.head()"
   ]
  },
  {
   "cell_type": "markdown",
   "id": "e8b60893",
   "metadata": {},
   "source": [
    "### K-Means Clustering"
   ]
  },
  {
   "cell_type": "code",
   "execution_count": 15,
   "id": "0fba8ca4",
   "metadata": {},
   "outputs": [],
   "source": [
    "k_means_model = KMeans(n_clusters=3)"
   ]
  },
  {
   "cell_type": "code",
   "execution_count": 16,
   "id": "e9a2ee00",
   "metadata": {},
   "outputs": [],
   "source": [
    "k_means_clusters = k_means_model.fit_predict(df_scaled)"
   ]
  },
  {
   "cell_type": "code",
   "execution_count": 17,
   "id": "2743939e",
   "metadata": {},
   "outputs": [
    {
     "data": {
      "text/plain": [
       "array([0, 1, 0, ..., 0, 0, 0])"
      ]
     },
     "execution_count": 17,
     "metadata": {},
     "output_type": "execute_result"
    }
   ],
   "source": [
    "k_means_clusters"
   ]
  },
  {
   "cell_type": "markdown",
   "id": "d85d490e",
   "metadata": {},
   "source": [
    "### Hierarchial Clustering"
   ]
  },
  {
   "cell_type": "code",
   "execution_count": 18,
   "id": "da07d2c0",
   "metadata": {},
   "outputs": [],
   "source": [
    "hierarchial_model = AgglomerativeClustering(n_clusters=3)"
   ]
  },
  {
   "cell_type": "code",
   "execution_count": 19,
   "id": "e252303f",
   "metadata": {},
   "outputs": [],
   "source": [
    "hierarchial_clusters = hierarchial_model.fit_predict(df_scaled)"
   ]
  },
  {
   "cell_type": "code",
   "execution_count": 20,
   "id": "17c03195",
   "metadata": {},
   "outputs": [
    {
     "data": {
      "text/plain": [
       "array([1, 2, 0, ..., 1, 1, 1], dtype=int64)"
      ]
     },
     "execution_count": 20,
     "metadata": {},
     "output_type": "execute_result"
    }
   ],
   "source": [
    "hierarchial_clusters"
   ]
  },
  {
   "cell_type": "markdown",
   "id": "a92231d6",
   "metadata": {},
   "source": [
    "***"
   ]
  },
  {
   "cell_type": "markdown",
   "id": "8c156304",
   "metadata": {},
   "source": [
    "### Feature Reduction"
   ]
  },
  {
   "cell_type": "code",
   "execution_count": 24,
   "id": "e8ed74ac",
   "metadata": {},
   "outputs": [],
   "source": [
    "pca = PCA(n_components=2)"
   ]
  },
  {
   "cell_type": "code",
   "execution_count": 25,
   "id": "a399e173",
   "metadata": {},
   "outputs": [],
   "source": [
    "new_features = pca.fit_transform(df_scaled)"
   ]
  },
  {
   "cell_type": "code",
   "execution_count": 26,
   "id": "307e4a51",
   "metadata": {},
   "outputs": [],
   "source": [
    "new_features = pd.DataFrame(new_features)"
   ]
  },
  {
   "cell_type": "code",
   "execution_count": 27,
   "id": "02fd242f",
   "metadata": {},
   "outputs": [
    {
     "data": {
      "text/html": [
       "<div>\n",
       "<style scoped>\n",
       "    .dataframe tbody tr th:only-of-type {\n",
       "        vertical-align: middle;\n",
       "    }\n",
       "\n",
       "    .dataframe tbody tr th {\n",
       "        vertical-align: top;\n",
       "    }\n",
       "\n",
       "    .dataframe thead th {\n",
       "        text-align: right;\n",
       "    }\n",
       "</style>\n",
       "<table border=\"1\" class=\"dataframe\">\n",
       "  <thead>\n",
       "    <tr style=\"text-align: right;\">\n",
       "      <th></th>\n",
       "      <th>0</th>\n",
       "      <th>1</th>\n",
       "    </tr>\n",
       "  </thead>\n",
       "  <tbody>\n",
       "    <tr>\n",
       "      <th>0</th>\n",
       "      <td>-1.696394</td>\n",
       "      <td>-1.122588</td>\n",
       "    </tr>\n",
       "    <tr>\n",
       "      <th>1</th>\n",
       "      <td>-1.215682</td>\n",
       "      <td>2.435613</td>\n",
       "    </tr>\n",
       "    <tr>\n",
       "      <th>2</th>\n",
       "      <td>0.935852</td>\n",
       "      <td>-0.385193</td>\n",
       "    </tr>\n",
       "    <tr>\n",
       "      <th>3</th>\n",
       "      <td>-1.614637</td>\n",
       "      <td>-0.724586</td>\n",
       "    </tr>\n",
       "    <tr>\n",
       "      <th>4</th>\n",
       "      <td>0.223699</td>\n",
       "      <td>-0.783606</td>\n",
       "    </tr>\n",
       "  </tbody>\n",
       "</table>\n",
       "</div>"
      ],
      "text/plain": [
       "          0         1\n",
       "0 -1.696394 -1.122588\n",
       "1 -1.215682  2.435613\n",
       "2  0.935852 -0.385193\n",
       "3 -1.614637 -0.724586\n",
       "4  0.223699 -0.783606"
      ]
     },
     "execution_count": 27,
     "metadata": {},
     "output_type": "execute_result"
    }
   ],
   "source": [
    "new_features.head()"
   ]
  },
  {
   "cell_type": "markdown",
   "id": "ae1ff148",
   "metadata": {},
   "source": [
    "### Visualize clusters of K-Means"
   ]
  },
  {
   "cell_type": "code",
   "execution_count": 39,
   "id": "6c459e2f",
   "metadata": {},
   "outputs": [],
   "source": [
    "k_means_df = new_features\n",
    "\n",
    "k_means_df['Clusters'] = k_means_clusters\n",
    "\n",
    "k_0 = k_means_df[k_means_df['Clusters'] == 0]\n",
    "k_1 = k_means_df[k_means_df['Clusters'] == 1]\n",
    "k_2 = k_means_df[k_means_df['Clusters'] == 2]"
   ]
  },
  {
   "cell_type": "code",
   "execution_count": 40,
   "id": "d0299fb4",
   "metadata": {},
   "outputs": [
    {
     "data": {
      "text/plain": [
       "<AxesSubplot:xlabel='0', ylabel='1'>"
      ]
     },
     "execution_count": 40,
     "metadata": {},
     "output_type": "execute_result"
    },
    {
     "data": {
      "image/png": "[encoded data removed]",
      "text/plain": [
       "<Figure size 432x288 with 1 Axes>"
      ]
     },
     "metadata": {
      "needs_background": "light"
     },
     "output_type": "display_data"
    }
   ],
   "source": [
    "sns.scatterplot(x = 0, y = 1, data = k_0)\n",
    "sns.scatterplot(x = 0, y = 1, data = k_1)\n",
    "sns.scatterplot(x = 0, y = 1, data = k_2)"
   ]
  },
  {
   "cell_type": "markdown",
   "id": "e7c3e257",
   "metadata": {},
   "source": [
    "### Visualize Clusters of Hierarchial"
   ]
  },
  {
   "cell_type": "code",
   "execution_count": 44,
   "id": "b0d44935",
   "metadata": {},
   "outputs": [],
   "source": [
    "heirarchial_df = new_features\n",
    "\n",
    "heirarchial_df['Clusters'] = hierarchial_clusters\n",
    "\n",
    "h_0 = k_means_df[heirarchial_df['Clusters'] == 0]\n",
    "h_1 = k_means_df[heirarchial_df['Clusters'] == 1]\n",
    "h_2 = k_means_df[heirarchial_df['Clusters'] == 2]"
   ]
  },
  {
   "cell_type": "code",
   "execution_count": 45,
   "id": "2e19d272",
   "metadata": {},
   "outputs": [
    {
     "data": {
      "text/plain": [
       "<AxesSubplot:xlabel='0', ylabel='1'>"
      ]
     },
     "execution_count": 45,
     "metadata": {},
     "output_type": "execute_result"
    },
    {
     "data": {
      "image/png": "[encoded data removed]",
      "text/plain": [
       "<Figure size 432x288 with 1 Axes>"
      ]
     },
     "metadata": {
      "needs_background": "light"
     },
     "output_type": "display_data"
    }
   ],
   "source": [
    "sns.scatterplot(x = 0, y = 1, data = h_0)\n",
    "sns.scatterplot(x = 0, y = 1, data = h_1)\n",
    "sns.scatterplot(x = 0, y = 1, data = h_2)"
   ]
  },
  {
   "cell_type": "markdown",
   "id": "b456c0e1",
   "metadata": {},
   "source": [
    "***"
   ]
  }
 ],
 "metadata": {
  "kernelspec": {
   "display_name": "Python 3 (ipykernel)",
   "language": "python",
   "name": "python3"
  },
  "language_info": {
   "codemirror_mode": {
    "name": "ipython",
    "version": 3
   },
   "file_extension": ".py",
   "mimetype": "text/x-python",
   "name": "python",
   "nbconvert_exporter": "python",
   "pygments_lexer": "ipython3",
   "version": "3.9.7"
  }
 },
 "nbformat": 4,
 "nbformat_minor": 5
}
